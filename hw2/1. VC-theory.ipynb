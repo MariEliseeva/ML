{
 "cells": [
  {
   "cell_type": "markdown",
   "metadata": {},
   "source": [
    "#### a) h(x) = +1 if x > a. <br> \n",
    "* The breakpoint is 2\n",
    "  * For two points $x < y$ we have 4 cases to split the points in two classes, but one of them is not possible:\n",
    "    * $h(x) = +1, h(y) = +1$\n",
    "    * $h(x) = +1, h(y) = -1 \\Leftrightarrow a < x$ and $y \\le a$, which is not possible, because $x < y$\n",
    "    * $h(x) = -1, h(y) = +1$\n",
    "    * $h(x) = -1, h(y) = -1$<br>\n",
    "  * For one point both variants $h(x) = +1$ and $h(x) = -1$ are possible, so 2 is the smallest number.\n",
    "* VC dimension is 1 (breakpoint - 1 = 2 - 1 = 1)\n",
    "* If we have N points $x_1 < x_2 < \\cdots < x_N$, if $h(x_i) = -1$ for all $x_j: j < i \\Rightarrow h(x_j) = -1$, because $x_j < x_i \\le a$.<br> So, we can split the points in two classes only by putting the line between any of  $x_i$ and $x_{i + 1}$, or before all the points, or after them.<br> It gives us that the growth function $m_H(N) = N + 1$"
   ]
  },
  {
   "cell_type": "markdown",
   "metadata": {
    "pycharm": {}
   },
   "source": [
    "#### b) h(x) = +1 if a < x < b. <br> \n",
    "* The breakpoint is 3: \n",
    "  * three points $x < y < z$, 8 cases:\n",
    "    * $h(x) = +1, h(y) = +1, h(z) = +1$\n",
    "    * $h(x) = +1, h(y) = +1, h(z) = -1$\n",
    "    * $h(x) = +1, h(y) = -1, h(z) = +1 \\Leftrightarrow a < x < z < b$ and $y \\le a$ or $\\ge b$: not possible, because $x < y < z$\n",
    "    * $h(x) = +1, h(y) = -1, h(z) = -1$\n",
    "    * $h(x) = -1, h(y) = +1, h(z) = +1$\n",
    "    * $h(x) = -1, h(y) = +1, h(z) = -1$\n",
    "    * $h(x) = -1, h(y) = -1, h(z) = +1$\n",
    "    * $h(x) = -1, h(y) = -1, h(z) = -1$\n",
    "  * For two points it is ok:\n",
    "    * $h(x) = +1, h(y) = +1 \\Leftrightarrow a < x < y < b$\n",
    "    * $h(x) = +1, h(y) = -1 \\Leftrightarrow a < x < b \\le y$\n",
    "    * $h(x) = -1, h(y) = +1 \\Leftrightarrow x \\le a < y < b$\n",
    "    * $h(x) = -1, h(y) = -1 \\Leftrightarrow x < y\\le a$ or $b \\le x < y$\n",
    "* VC dimension is 2 (breakpoint - 1 = 3 - 1 = 1)\n",
    "* If we have N points $x_1 < x_2 < \\cdots < x_N$ and $h(x_i) = +1, h(x_j) = +1, i < j \\Rightarrow$<br> for any $t: i \\le t \\le j: h(t)$ must be $+1$, because $a < x_i < x_j < b, x_i \\le x_t \\le x_j \\Rightarrow a < x_t < b$.<br> So, if we want k points to be in positive class, we can choose $x_1, x_2, \\cdots x_k$, $x_2, x_3,  \\cdots x_{k + 1} \\cdots x_{N - k + 1}, x_3,  \\cdots x_{N} \\Rightarrow N - k + 1$ cases. $\\sum\\limits_{k = 1}^{N}(N - k + 1) = \\sum\\limits_{k = 1}^{N}k = \\frac{(N + 1)N}{2}$ and one case when all points are in negative class.<br>\n",
    "   It means, that the growth function if $m_H(N) = \\frac{(N + 1)N}{2} + 1$"
   ]
  },
  {
   "cell_type": "code",
   "execution_count": null,
   "metadata": {},
   "outputs": [],
   "source": []
  }
 ],
 "metadata": {
  "kernelspec": {
   "display_name": "Python 2",
   "language": "python",
   "name": "python2"
  },
  "language_info": {
   "codemirror_mode": {
    "name": "ipython",
    "version": 2
   },
   "file_extension": ".py",
   "mimetype": "text/x-python",
   "name": "python",
   "nbconvert_exporter": "python",
   "pygments_lexer": "ipython2",
   "version": "2.7.10"
  }
 },
 "nbformat": 4,
 "nbformat_minor": 1
}
