{
 "cells": [
  {
   "cell_type": "code",
   "execution_count": 1,
   "metadata": {
    "pycharm": {
     "is_executing": false
    }
   },
   "outputs": [],
   "source": [
    "import csv\n",
    "import matplotlib\n",
    "import matplotlib.pyplot as plt\n",
    "from tqdm import tqdm_notebook\n",
    "import random\n",
    "import numpy as np"
   ]
  },
  {
   "cell_type": "code",
   "execution_count": 2,
   "metadata": {
    "pycharm": {
     "is_executing": false
    }
   },
   "outputs": [],
   "source": [
    "def read_points(dataset_name, label_col_number):\n",
    "    points = []\n",
    "    labels = []\n",
    "    with open (dataset_name, 'r') as fin:\n",
    "        csvReader = csv.reader(fin, delimiter=',')\n",
    "        for row in csvReader:\n",
    "            if csvReader.line_num != 1:\n",
    "                float_row = []\n",
    "                for i in range(0, len(row)):\n",
    "                    if i != label_col_number:\n",
    "                        float_row.append(float(row[i]))\n",
    "                points.append(float_row)\n",
    "                if (int(row[label_col_number])) == 1:\n",
    "                    labels.append(1)\n",
    "                else:\n",
    "                    labels.append(-1)\n",
    "    return points, labels"
   ]
  },
  {
   "cell_type": "code",
   "execution_count": 3,
   "metadata": {
    "pycharm": {}
   },
   "outputs": [],
   "source": [
    "def split(points, labels):\n",
    "    test_indexes = random.sample(range(len(points)), len(points) // 5)\n",
    "    train_indexes = set([i for i in range(len(points))]) - set(test_indexes)\n",
    "    return [points[i] for i in train_indexes], [labels[i] for i in train_indexes], [points[i] for i in test_indexes], [labels[i] for i in test_indexes]"
   ]
  },
  {
   "cell_type": "code",
   "execution_count": 4,
   "metadata": {
    "pycharm": {}
   },
   "outputs": [],
   "source": [
    "def pocket_perceptron(points, labels, N):\n",
    "    train_points, train_labels, test_points, test_labels = split(points, labels)\n",
    "    w = []\n",
    "    for i in range(len(train_points[0])):\n",
    "        w.append(np.random.uniform())\n",
    "    iteration = 0\n",
    "    min_bad_points = len(train_points)\n",
    "    pocket = w\n",
    "    test_line = []\n",
    "    min_bad_points_test = len(test_points)\n",
    " \n",
    "    for _ in tqdm_notebook(range(N)):   \n",
    "        for i in range(len(train_points)):\n",
    "            if np.sign(np.inner(w, train_points[i])) != train_labels[i]:\n",
    "                a = [j * train_labels[i] for j in train_points[i]]\n",
    "                for j in range(len(w)):\n",
    "                    w[j] += a[j]\n",
    "                break\n",
    "        bad_points = 0\n",
    "        for i in range(len(test_points)):\n",
    "            if np.sign(np.inner(w, test_points[i])) != test_labels[i]:\n",
    "                bad_points += 1\n",
    "        if bad_points < min_bad_points_test:\n",
    "            min_bad_points_test = bad_points\n",
    "        test_line.append(1.0 * min_bad_points_test / len(test_points))\n",
    "        \n",
    "        bad_points = 0\n",
    "        for i in range(len(train_points)):\n",
    "            if np.sign(np.inner(w, train_points[i])) != train_labels[i]:\n",
    "                bad_points += 1\n",
    "        if bad_points < min_bad_points:\n",
    "            min_bad_points = bad_points\n",
    "            pocket = w\n",
    "        if min_bad_points == 0:\n",
    "            break\n",
    "    return w, test_line       "
   ]
  },
  {
   "cell_type": "code",
   "execution_count": 5,
   "metadata": {
    "pycharm": {}
   },
   "outputs": [
    {
     "data": {
      "application/vnd.jupyter.widget-view+json": {
       "model_id": "f7f07590938f4255af019f847c6a8f0c",
       "version_major": 2,
       "version_minor": 0
      },
      "text/plain": [
       "HBox(children=(IntProgress(value=0, max=1000), HTML(value=u'')))"
      ]
     },
     "metadata": {},
     "output_type": "display_data"
    },
    {
     "name": "stdout",
     "output_type": "stream",
     "text": [
      "\n",
      "0.025\n"
     ]
    },
    {
     "data": {
      "image/png": "[encoded data removed]",
      "text/plain": [
       "<Figure size 432x288 with 1 Axes>"
      ]
     },
     "metadata": {
      "needs_background": "light"
     },
     "output_type": "display_data"
    }
   ],
   "source": [
    "points, labels = read_points(\"../Datasets/blobs2.csv\", 2)\n",
    "for point in points:\n",
    "    point.append(1)\n",
    "N = 1000\n",
    "w, y = pocket_perceptron(points, labels, N)\n",
    "print(y[-1])\n",
    "x = list(range(N))\n",
    "plt.plot(x, y)\n",
    "plt.show()"
   ]
  },
  {
   "cell_type": "code",
   "execution_count": 6,
   "metadata": {
    "pycharm": {}
   },
   "outputs": [],
   "source": [
    "def draw_point(x, y, color, size=10):\n",
    "    plt.scatter(x, y, size, color)"
   ]
  },
  {
   "cell_type": "code",
   "execution_count": 7,
   "metadata": {
    "pycharm": {}
   },
   "outputs": [
    {
     "data": {
      "application/vnd.jupyter.widget-view+json": {
       "model_id": "7b00f875af2e41ce99c267e40f518d04",
       "version_major": 2,
       "version_minor": 0
      },
      "text/plain": [
       "HBox(children=(IntProgress(value=0, max=1000), HTML(value=u'')))"
      ]
     },
     "metadata": {},
     "output_type": "display_data"
    },
    {
     "name": "stdout",
     "output_type": "stream",
     "text": [
      "\n"
     ]
    },
    {
     "data": {
      "image/png": "[encoded data removed]",
      "text/plain": [
       "<Figure size 432x288 with 1 Axes>"
      ]
     },
     "metadata": {
      "needs_background": "light"
     },
     "output_type": "display_data"
    }
   ],
   "source": [
    "k = - w[0] * 1.0 / w[1]\n",
    "b = - w[2] * 1.0 / w[1]\n",
    "x = np.linspace(-2,5,100)\n",
    "y = k * x + b\n",
    "plt.plot(x, y)\n",
    "for i in tqdm_notebook(range(len(points))):\n",
    "    color = 'hotpink'\n",
    "    if labels[i] == 1:\n",
    "        color = 'lime'\n",
    "    draw_point(points[i][0], points[i][1], color)\n",
    "plt.show()"
   ]
  },
  {
   "cell_type": "code",
   "execution_count": null,
   "metadata": {
    "pycharm": {}
   },
   "outputs": [],
   "source": []
  }
 ],
 "metadata": {
  "kernelspec": {
   "display_name": "Python 2",
   "language": "python",
   "name": "python2"
  },
  "language_info": {
   "codemirror_mode": {
    "name": "ipython",
    "version": 2
   },
   "file_extension": ".py",
   "mimetype": "text/x-python",
   "name": "python",
   "nbconvert_exporter": "python",
   "pygments_lexer": "ipython2",
   "version": "2.7.10"
  }
 },
 "nbformat": 4,
 "nbformat_minor": 1
}
