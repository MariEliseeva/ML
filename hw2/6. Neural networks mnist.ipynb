{
 "cells": [
  {
   "cell_type": "code",
   "execution_count": 1,
   "metadata": {},
   "outputs": [],
   "source": [
    "import tensorflow as tf\n",
    "import csv\n",
    "import matplotlib.pyplot as plt\n",
    "import numpy as np\n",
    "from tensorflow import keras"
   ]
  },
  {
   "cell_type": "code",
   "execution_count": 2,
   "metadata": {},
   "outputs": [],
   "source": [
    "def read_points(dataset_name, label_col_number):\n",
    "    points = []\n",
    "    labels = []\n",
    "    with open (dataset_name, 'r') as fin:\n",
    "        csvReader = csv.reader(fin, delimiter=',')\n",
    "        for row in csvReader:\n",
    "            if csvReader.line_num != 1:\n",
    "                float_row = []\n",
    "                for i in range(0, len(row)):\n",
    "                    if i != label_col_number:\n",
    "                        float_row.append(float(row[i]) * 1.0 / 255)\n",
    "                points.append(np.reshape(float_row, [28, 28]))\n",
    "                labels.append(int(row[label_col_number]))\n",
    "    return points, labels"
   ]
  },
  {
   "cell_type": "code",
   "execution_count": 3,
   "metadata": {},
   "outputs": [],
   "source": [
    "points, labels = read_points(\"../Datasets/mnist.csv\", 0)"
   ]
  },
  {
   "cell_type": "code",
   "execution_count": 4,
   "metadata": {},
   "outputs": [],
   "source": [
    "def model(features, labels, mode, params):\n",
    "    if params[\"function\"]:\n",
    "        input_layer = tf.reshape(features[\"x\"], [-1, 28, 28, 1])\n",
    "        conv1 = keras.layers.Conv2D(8, [3, 3], padding=\"same\", activation=params[\"function\"])(input_layer)\n",
    "        conv2 = keras.layers.Conv2D(8, [3, 3], padding=\"same\", activation=params[\"function\"])(conv1)\n",
    "        conv3 = keras.layers.Conv2D(8, [3, 3], padding=\"same\", activation=params[\"function\"])(conv2)\n",
    "    \n",
    "        conv3_reshaped = tf.reshape(conv3, [-1, 28 * 28 * 8])\n",
    "    \n",
    "        fc1 = keras.layers.Dense(64, activation=params[\"function\"])(conv3_reshaped)\n",
    "        fc2 = keras.layers.Dense(64, activation=params[\"function\"])(fc1)\n",
    "        logits = keras.layers.Dense(10)(fc2)\n",
    "    else:\n",
    "        input_layer = tf.reshape(features[\"x\"], [-1, 28 * 28 * 1])\n",
    "    \n",
    "        fc1 = keras.layers.Dense(64, activation=tf.nn.sigmoid)(input_layer)\n",
    "        fc2 = keras.layers.Dense(10)(fc1)\n",
    "\n",
    "        logits = fc2\n",
    "    \n",
    "    predictions = {\n",
    "        \"classes\": tf.argmax(input=logits, axis=1)\n",
    "    }\n",
    "\n",
    "    if mode == tf.estimator.ModeKeys.PREDICT:\n",
    "        return tf.estimator.EstimatorSpec(mode=mode, predictions=predictions)\n",
    "\n",
    "    loss = tf.losses.sparse_softmax_cross_entropy(labels=labels, logits=logits)\n",
    "\n",
    "    if mode == tf.estimator.ModeKeys.TRAIN:\n",
    "        optimizer = tf.train.GradientDescentOptimizer(learning_rate=0.01)\n",
    "        train_op = optimizer.minimize(loss=loss,global_step=tf.train.get_global_step())\n",
    "        return tf.estimator.EstimatorSpec(mode=mode, loss=loss, train_op=train_op)\n",
    "\n",
    "    eval_metric_ops = {\n",
    "        \"accuracy\": tf.metrics.accuracy(labels=labels, predictions=predictions[\"classes\"])\n",
    "    }\n",
    "    return tf.estimator.EstimatorSpec(\n",
    "        mode=mode, loss=loss, eval_metric_ops=eval_metric_ops)"
   ]
  },
  {
   "cell_type": "code",
   "execution_count": 5,
   "metadata": {},
   "outputs": [],
   "source": [
    "def train_and_validate(train_points, train_labels, test_points, test_labels, dir_name, N, function=None):\n",
    "    mnist_classifier = tf.estimator.Estimator(\n",
    "        model_fn=model, model_dir=dir_name, params={\"function\" : function})\n",
    "    train_input_fn = tf.estimator.inputs.numpy_input_fn(\n",
    "        x={\"x\": train_points},\n",
    "        y=train_labels,\n",
    "        batch_size=100,\n",
    "        num_epochs=None,\n",
    "        shuffle=True)\n",
    "    for epoch in range(N):\n",
    "        mnist_classifier.train(input_fn=train_input_fn, steps=100)\n",
    "        eval_input_fn_train = tf.estimator.inputs.numpy_input_fn(\n",
    "            x={\"x\": train_points},\n",
    "            y=train_labels,\n",
    "            num_epochs=1,\n",
    "            shuffle=False)\n",
    "        eval_results_train = mnist_classifier.evaluate(input_fn=eval_input_fn_train)\n",
    "        \n",
    "        eval_input_fn_test = tf.estimator.inputs.numpy_input_fn(\n",
    "            x={\"x\": test_points},\n",
    "            y=test_labels,\n",
    "            num_epochs=1,\n",
    "            shuffle=False)\n",
    "        eval_results_test = mnist_classifier.evaluate(input_fn=eval_input_fn_test)\n",
    "        print(\"Epoch \" + str(epoch) + \": train accuracy = \" + str(eval_results_train[\"accuracy\"]) + \", test accuracy = \" + str(eval_results_test[\"accuracy\"]))"
   ]
  },
  {
   "cell_type": "code",
   "execution_count": 6,
   "metadata": {},
   "outputs": [],
   "source": [
    "import random\n",
    "def split(points, labels):\n",
    "    test_indexes = random.sample(range(len(points)), len(points) // 10)\n",
    "    train_indexes = set([i for i in range(len(points))]) - set(test_indexes)\n",
    "    return np.array([points[i] for i in train_indexes]), np.array([labels[i] for i in train_indexes]), np.array([points[i] for i in test_indexes]), np.array([labels[i] for i in test_indexes])"
   ]
  },
  {
   "cell_type": "code",
   "execution_count": 7,
   "metadata": {},
   "outputs": [],
   "source": [
    "train_points, train_labels, test_points, test_labels = split(points, labels)"
   ]
  },
  {
   "cell_type": "code",
   "execution_count": 8,
   "metadata": {},
   "outputs": [],
   "source": [
    "tf.logging.set_verbosity(tf.logging.ERROR)"
   ]
  },
  {
   "cell_type": "code",
   "execution_count": 9,
   "metadata": {
    "scrolled": true
   },
   "outputs": [
    {
     "name": "stdout",
     "output_type": "stream",
     "text": [
      "Epoch 0: train accuracy = 0.29066667, test accuracy = 0.289\n",
      "Epoch 1: train accuracy = 0.5283333, test accuracy = 0.523\n",
      "Epoch 2: train accuracy = 0.61766666, test accuracy = 0.615\n",
      "Epoch 3: train accuracy = 0.66344446, test accuracy = 0.668\n",
      "Epoch 4: train accuracy = 0.6911111, test accuracy = 0.702\n",
      "Epoch 5: train accuracy = 0.69755554, test accuracy = 0.712\n",
      "Epoch 6: train accuracy = 0.7313333, test accuracy = 0.744\n",
      "Epoch 7: train accuracy = 0.74355555, test accuracy = 0.761\n",
      "Epoch 8: train accuracy = 0.7548889, test accuracy = 0.771\n",
      "Epoch 9: train accuracy = 0.7678889, test accuracy = 0.786\n",
      "Epoch 10: train accuracy = 0.779, test accuracy = 0.8\n",
      "Epoch 11: train accuracy = 0.7874445, test accuracy = 0.812\n",
      "Epoch 12: train accuracy = 0.794, test accuracy = 0.818\n",
      "Epoch 13: train accuracy = 0.8021111, test accuracy = 0.825\n",
      "Epoch 14: train accuracy = 0.80644447, test accuracy = 0.829\n",
      "Epoch 15: train accuracy = 0.81144446, test accuracy = 0.833\n",
      "Epoch 16: train accuracy = 0.81766665, test accuracy = 0.838\n",
      "Epoch 17: train accuracy = 0.8231111, test accuracy = 0.842\n",
      "Epoch 18: train accuracy = 0.82655555, test accuracy = 0.845\n",
      "Epoch 19: train accuracy = 0.8287778, test accuracy = 0.851\n"
     ]
    }
   ],
   "source": [
    "train_and_validate(train_points, train_labels, test_points, test_labels, \"mnist_model_sigmoid\", 20)"
   ]
  },
  {
   "cell_type": "code",
   "execution_count": 10,
   "metadata": {},
   "outputs": [
    {
     "name": "stdout",
     "output_type": "stream",
     "text": [
      "Epoch 0: train accuracy = 0.8252222, test accuracy = 0.845\n",
      "Epoch 1: train accuracy = 0.8778889, test accuracy = 0.883\n",
      "Epoch 2: train accuracy = 0.8976667, test accuracy = 0.897\n",
      "Epoch 3: train accuracy = 0.90544444, test accuracy = 0.903\n",
      "Epoch 4: train accuracy = 0.9122222, test accuracy = 0.913\n",
      "Epoch 5: train accuracy = 0.9167778, test accuracy = 0.91\n",
      "Epoch 6: train accuracy = 0.9221111, test accuracy = 0.919\n",
      "Epoch 7: train accuracy = 0.9301111, test accuracy = 0.926\n",
      "Epoch 8: train accuracy = 0.934, test accuracy = 0.927\n",
      "Epoch 9: train accuracy = 0.9368889, test accuracy = 0.93\n",
      "Epoch 10: train accuracy = 0.9391111, test accuracy = 0.929\n",
      "Epoch 11: train accuracy = 0.94255555, test accuracy = 0.932\n",
      "Epoch 12: train accuracy = 0.9448889, test accuracy = 0.933\n",
      "Epoch 13: train accuracy = 0.94755554, test accuracy = 0.933\n",
      "Epoch 14: train accuracy = 0.95066667, test accuracy = 0.938\n",
      "Epoch 15: train accuracy = 0.95555556, test accuracy = 0.937\n",
      "Epoch 16: train accuracy = 0.955, test accuracy = 0.936\n",
      "Epoch 17: train accuracy = 0.9581111, test accuracy = 0.936\n",
      "Epoch 18: train accuracy = 0.96022224, test accuracy = 0.942\n",
      "Epoch 19: train accuracy = 0.96122223, test accuracy = 0.941\n"
     ]
    }
   ],
   "source": [
    "train_and_validate(train_points, train_labels, test_points, test_labels, \"mnist_model_tanh\", 20, tf.tanh)"
   ]
  },
  {
   "cell_type": "code",
   "execution_count": 11,
   "metadata": {},
   "outputs": [
    {
     "name": "stdout",
     "output_type": "stream",
     "text": [
      "Epoch 0: train accuracy = 0.44788888, test accuracy = 0.442\n",
      "Epoch 1: train accuracy = 0.8951111, test accuracy = 0.904\n",
      "Epoch 2: train accuracy = 0.90533334, test accuracy = 0.916\n",
      "Epoch 3: train accuracy = 0.91533333, test accuracy = 0.919\n",
      "Epoch 4: train accuracy = 0.928, test accuracy = 0.937\n",
      "Epoch 5: train accuracy = 0.93733335, test accuracy = 0.935\n",
      "Epoch 6: train accuracy = 0.9411111, test accuracy = 0.936\n",
      "Epoch 7: train accuracy = 0.9494445, test accuracy = 0.952\n",
      "Epoch 8: train accuracy = 0.95244443, test accuracy = 0.949\n",
      "Epoch 9: train accuracy = 0.95044446, test accuracy = 0.952\n",
      "Epoch 10: train accuracy = 0.9584444, test accuracy = 0.961\n",
      "Epoch 11: train accuracy = 0.9577778, test accuracy = 0.954\n",
      "Epoch 12: train accuracy = 0.96511114, test accuracy = 0.954\n",
      "Epoch 13: train accuracy = 0.96955556, test accuracy = 0.959\n",
      "Epoch 14: train accuracy = 0.97077775, test accuracy = 0.961\n",
      "Epoch 15: train accuracy = 0.9682222, test accuracy = 0.956\n",
      "Epoch 16: train accuracy = 0.96566665, test accuracy = 0.957\n",
      "Epoch 17: train accuracy = 0.96988887, test accuracy = 0.965\n",
      "Epoch 18: train accuracy = 0.97466666, test accuracy = 0.962\n",
      "Epoch 19: train accuracy = 0.97744447, test accuracy = 0.961\n"
     ]
    }
   ],
   "source": [
    "train_and_validate(train_points, train_labels, test_points, test_labels, \"mnist_model_relu\", 20, tf.nn.relu)"
   ]
  },
  {
   "cell_type": "code",
   "execution_count": null,
   "metadata": {},
   "outputs": [],
   "source": []
  }
 ],
 "metadata": {
  "kernelspec": {
   "display_name": "Python 2",
   "language": "python",
   "name": "python2"
  },
  "language_info": {
   "codemirror_mode": {
    "name": "ipython",
    "version": 2
   },
   "file_extension": ".py",
   "mimetype": "text/x-python",
   "name": "python",
   "nbconvert_exporter": "python",
   "pygments_lexer": "ipython2",
   "version": "2.7.10"
  }
 },
 "nbformat": 4,
 "nbformat_minor": 1
}
