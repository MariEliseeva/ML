{
 "cells": [
  {
   "cell_type": "code",
   "execution_count": 1,
   "metadata": {},
   "outputs": [],
   "source": [
    "import csv\n",
    "import matplotlib\n",
    "import matplotlib.pyplot as plt\n",
    "matplotlib.rcParams['figure.figsize'] = [10, 10]\n",
    "from tqdm import tqdm_notebook\n",
    "import random\n",
    "import numpy as np"
   ]
  },
  {
   "cell_type": "code",
   "execution_count": 2,
   "metadata": {},
   "outputs": [],
   "source": [
    "def read_points(dataset_name, label_col_number, true_label):\n",
    "    points = []\n",
    "    labels = []\n",
    "    with open (dataset_name, 'r') as fin:\n",
    "        csvReader = csv.reader(fin, delimiter=',')\n",
    "        for row in csvReader:\n",
    "            if csvReader.line_num != 1:\n",
    "                float_row = []\n",
    "                for i in range(0, len(row)):\n",
    "                    if i != label_col_number:\n",
    "                        float_row.append(float(row[i]))\n",
    "                points.append(np.array(float_row))\n",
    "                if row[label_col_number] == true_label:\n",
    "                    labels.append(1)\n",
    "                else:\n",
    "                    labels.append(-1)\n",
    "    return points, labels\n"
   ]
  },
  {
   "cell_type": "code",
   "execution_count": 3,
   "metadata": {},
   "outputs": [],
   "source": [
    "def h(x, w):\n",
    "    value = 1.0 / (1.0 + np.exp(-np.inner(w, x)))\n",
    "    if value <= 0.5:\n",
    "        return -1\n",
    "    return 1"
   ]
  },
  {
   "cell_type": "code",
   "execution_count": 4,
   "metadata": {},
   "outputs": [],
   "source": [
    "def logistic_regression(points, labels, N, lr, batch_size):\n",
    "    w = []\n",
    "    for i in range(len(points[0])):\n",
    "        w.append(0.0)\n",
    "    test_line = []\n",
    "    w = np.array(w)\n",
    " \n",
    "    for _ in tqdm_notebook(range(N)): \n",
    "        sm = 0\n",
    "        for i in range(len(points)):\n",
    "            sm +=labels[i] * points[i] / (1 + np.e **(labels[i] * np.inner(w, points[i])))\n",
    "            if i % batch_size == 0 and i != 0:\n",
    "                w -= - lr * 1.0 / batch_size * sm\n",
    "                sm = 0\n",
    "        \n",
    "        good_points = 0\n",
    "        for i in range(len(points)):\n",
    "            if h(points[i], w) == labels[i]:\n",
    "                good_points += 1\n",
    "        test_line.append(1.0 * good_points / len(points))\n",
    "    return w, test_line       "
   ]
  },
  {
   "cell_type": "code",
   "execution_count": 5,
   "metadata": {},
   "outputs": [
    {
     "data": {
      "application/vnd.jupyter.widget-view+json": {
       "model_id": "2591f22b9c4a4ba49acb1de4575c2195",
       "version_major": 2,
       "version_minor": 0
      },
      "text/plain": [
       "HBox(children=(IntProgress(value=0, max=1000), HTML(value=u'')))"
      ]
     },
     "metadata": {},
     "output_type": "display_data"
    },
    {
     "name": "stdout",
     "output_type": "stream",
     "text": [
      "\n",
      "0.912126537786\n"
     ]
    },
    {
     "data": {
      "image/png": "[encoded data removed]",
      "text/plain": [
       "<Figure size 432x288 with 1 Axes>"
      ]
     },
     "metadata": {
      "needs_background": "light"
     },
     "output_type": "display_data"
    }
   ],
   "source": [
    "points, labels = read_points(\"../Datasets/cancer.csv\", 0, 'M')\n",
    "from sklearn.preprocessing import MinMaxScaler\n",
    "scaler = MinMaxScaler()\n",
    "scaled_points = scaler.fit_transform(points)\n",
    "\n",
    "N = 1000\n",
    "w, y = logistic_regression(scaled_points, labels, N, 0.01, 10)\n",
    "print(y[-1])\n",
    "x = list(range(N))\n",
    "plt.plot(x, y)\n",
    "plt.show()"
   ]
  },
  {
   "cell_type": "code",
   "execution_count": 6,
   "metadata": {},
   "outputs": [
    {
     "data": {
      "application/vnd.jupyter.widget-view+json": {
       "model_id": "16637aa0abfe4ddba0af6319c6718487",
       "version_major": 2,
       "version_minor": 0
      },
      "text/plain": [
       "HBox(children=(IntProgress(value=0, max=1000), HTML(value=u'')))"
      ]
     },
     "metadata": {},
     "output_type": "display_data"
    },
    {
     "name": "stdout",
     "output_type": "stream",
     "text": [
      "\n",
      "0.893066724625\n"
     ]
    },
    {
     "data": {
      "image/png": "[encoded data removed]",
      "text/plain": [
       "<Figure size 432x288 with 1 Axes>"
      ]
     },
     "metadata": {
      "needs_background": "light"
     },
     "output_type": "display_data"
    }
   ],
   "source": [
    "points, labels = read_points(\"../Datasets/spam.csv\", 57, '1')\n",
    "from sklearn.preprocessing import MinMaxScaler\n",
    "scaler = MinMaxScaler()\n",
    "scaled_points = scaler.fit_transform(points)\n",
    "\n",
    "N = 1000\n",
    "w, y = logistic_regression(scaled_points, labels, N, 0.01, 10)\n",
    "print(y[-1])\n",
    "x = list(range(N))\n",
    "plt.plot(x, y)\n",
    "plt.show()"
   ]
  },
  {
   "cell_type": "code",
   "execution_count": null,
   "metadata": {},
   "outputs": [],
   "source": []
  }
 ],
 "metadata": {
  "kernelspec": {
   "display_name": "Python 2",
   "language": "python",
   "name": "python2"
  },
  "language_info": {
   "codemirror_mode": {
    "name": "ipython",
    "version": 2
   },
   "file_extension": ".py",
   "mimetype": "text/x-python",
   "name": "python",
   "nbconvert_exporter": "python",
   "pygments_lexer": "ipython2",
   "version": "2.7.10"
  }
 },
 "nbformat": 4,
 "nbformat_minor": 1
}
