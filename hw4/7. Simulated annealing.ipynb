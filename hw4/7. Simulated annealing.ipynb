{
 "cells": [
  {
   "cell_type": "code",
   "execution_count": 2,
   "metadata": {
    "pycharm": {
     "is_executing": false
    }
   },
   "outputs": [],
   "source": [
    "import csv\n",
    "import matplotlib\n",
    "import matplotlib.pyplot as plt\n",
    "matplotlib.rcParams['figure.figsize'] = [15, 15]\n",
    "from tqdm import tqdm_notebook\n",
    "import random\n",
    "import numpy as np\n",
    "from time import time"
   ]
  },
  {
   "cell_type": "code",
   "execution_count": 3,
   "metadata": {
    "pycharm": {
     "is_executing": false
    }
   },
   "outputs": [],
   "source": [
    "def read_points(dataset_name, y_col_number):\n",
    "    x = []\n",
    "    y = []\n",
    "    with open (dataset_name, 'r') as fin:\n",
    "        csvReader = csv.reader(fin, delimiter=',')\n",
    "        for row in csvReader:\n",
    "            if csvReader.line_num != 1:\n",
    "                float_row = []\n",
    "                for i in range(0, len(row)):\n",
    "                    if i != y_col_number:\n",
    "                        float_row.append(float(row[i]))\n",
    "                x.append(float_row)\n",
    "                y.append(float(row[y_col_number]))\n",
    "    return x, y"
   ]
  },
  {
   "cell_type": "code",
   "execution_count": 4,
   "metadata": {},
   "outputs": [],
   "source": [
    "t_min = 0.1\n",
    "t_max = 10000\n",
    "def get_temperature(iteration): \n",
    "    return t_max * 0.1 / iteration"
   ]
  },
  {
   "cell_type": "code",
   "execution_count": 5,
   "metadata": {},
   "outputs": [],
   "source": [
    "def get_prob(iteration, diff):\n",
    "    return np.exp(- diff * 1.0 / get_temperature(iteration))"
   ]
  },
  {
   "cell_type": "code",
   "execution_count": 6,
   "metadata": {},
   "outputs": [],
   "source": [
    "def path_length(x):\n",
    "    dist = 0\n",
    "    for i in range(1, len(x)):\n",
    "        dist += np.abs(x[i][0] - x[i - 1][0]) + np.abs(x[i][1] - x[i - 1][1])\n",
    "    return dist"
   ]
  },
  {
   "cell_type": "code",
   "execution_count": 7,
   "metadata": {},
   "outputs": [],
   "source": [
    "def get_next(x):\n",
    "    new_x = x[:]\n",
    "    i = random.randint(0, len(x) - 1)\n",
    "    j = random.randint(0, len(x) - 1)    \n",
    "    if (i > j) :\n",
    "        new_x[j:i] = new_x[j:i][::-1]\n",
    "    else:\n",
    "        new_x[i:j] = new_x[i:j][::-1]\n",
    "    return new_x"
   ]
  },
  {
   "cell_type": "code",
   "execution_count": 8,
   "metadata": {
    "pycharm": {}
   },
   "outputs": [],
   "source": [
    "def simulated_annealing():\n",
    "    x, _ = read_points(\"../Datasets/tsp.csv\", 0)\n",
    "    random.seed(time())\n",
    "    np.random.shuffle(x)\n",
    "    temp = t_max\n",
    "    iteration = 0\n",
    "    while(temp > t_min):\n",
    "        iteration += 1\n",
    "        temp = get_temperature(iteration)\n",
    "        new_x = get_next(x)\n",
    "        diff = path_length(new_x) - path_length(x)\n",
    "        if diff <= 0:\n",
    "            x = new_x\n",
    "        else:\n",
    "            prob = get_prob(iteration, diff)\n",
    "            change = np.random.choice([0, 1], p=[1 - prob, prob])\n",
    "            if change == 1:\n",
    "                x = new_x\n",
    "    \n",
    "    print(\"Length = \" + str(path_length(x)))\n",
    "\n",
    "    l1_path = []\n",
    "    for i in range(1, len(x)):\n",
    "        l1_path.append(x[i - 1])\n",
    "        l1_path.append([x[i - 1][0], x[i][1]])\n",
    "    l1_path.append(x[len(x) - 1])\n",
    "    plt.plot(np.array(l1_path)[:,0], np.array(l1_path)[:,1])\n",
    "    plt.show()"
   ]
  },
  {
   "cell_type": "code",
   "execution_count": 9,
   "metadata": {},
   "outputs": [
    {
     "name": "stdout",
     "output_type": "stream",
     "text": [
      "Length = 9650.0\n"
     ]
    },
    {
     "data": {
      "image/png": "[encoded data removed]",
      "text/plain": [
       "<Figure size 1080x1080 with 1 Axes>"
      ]
     },
     "metadata": {
      "needs_background": "light"
     },
     "output_type": "display_data"
    }
   ],
   "source": [
    "simulated_annealing()"
   ]
  },
  {
   "cell_type": "code",
   "execution_count": null,
   "metadata": {},
   "outputs": [],
   "source": []
  }
 ],
 "metadata": {
  "kernelspec": {
   "display_name": "Python 2",
   "language": "python",
   "name": "python2"
  },
  "language_info": {
   "codemirror_mode": {
    "name": "ipython",
    "version": 2
   },
   "file_extension": ".py",
   "mimetype": "text/x-python",
   "name": "python",
   "nbconvert_exporter": "python",
   "pygments_lexer": "ipython2",
   "version": "2.7.10"
  }
 },
 "nbformat": 4,
 "nbformat_minor": 1
}
