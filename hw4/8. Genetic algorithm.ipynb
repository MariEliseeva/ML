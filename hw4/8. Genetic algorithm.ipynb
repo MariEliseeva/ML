{
 "cells": [
  {
   "cell_type": "code",
   "execution_count": 2,
   "metadata": {
    "pycharm": {
     "is_executing": false
    }
   },
   "outputs": [],
   "source": [
    "import csv\n",
    "import matplotlib\n",
    "import matplotlib.pyplot as plt\n",
    "matplotlib.rcParams['figure.figsize'] = [15, 15]\n",
    "from tqdm import tqdm_notebook\n",
    "import random\n",
    "import numpy as np\n",
    "from time import time"
   ]
  },
  {
   "cell_type": "code",
   "execution_count": 3,
   "metadata": {
    "pycharm": {
     "is_executing": false
    }
   },
   "outputs": [],
   "source": [
    "def read_points(dataset_name, y_col_number):\n",
    "    x = []\n",
    "    y = []\n",
    "    with open (dataset_name, 'r') as fin:\n",
    "        csvReader = csv.reader(fin, delimiter=',')\n",
    "        for row in csvReader:\n",
    "            if csvReader.line_num != 1:\n",
    "                float_row = []\n",
    "                for i in range(0, len(row)):\n",
    "                    if i != y_col_number:\n",
    "                        float_row.append(float(row[i]))\n",
    "                x.append(float_row)\n",
    "                y.append(float(row[y_col_number]))\n",
    "    return x, y"
   ]
  },
  {
   "cell_type": "code",
   "execution_count": 4,
   "metadata": {},
   "outputs": [],
   "source": [
    "def path_length(x):\n",
    "    dist = 0\n",
    "    for i in range(1, len(x)):\n",
    "        dist += np.abs(x[i][0] - x[i - 1][0]) + np.abs(x[i][1] - x[i - 1][1])\n",
    "    return dist"
   ]
  },
  {
   "cell_type": "code",
   "execution_count": 5,
   "metadata": {},
   "outputs": [],
   "source": [
    "def cross(x1, x2):\n",
    "    index = random.randint(0, len(x1) - 1)\n",
    "    new_x1 = x1[:index]\n",
    "    new_x2 = x2[:index]\n",
    "    for i in range(len(x2)):\n",
    "        if not (x2[i] in new_x1):\n",
    "            new_x1.append(x2[i])\n",
    "    for i in range(len(x1)):\n",
    "        if not (x1[i] in new_x2):\n",
    "            new_x2.append(x1[i])\n",
    "    return new_x1, new_x2"
   ]
  },
  {
   "cell_type": "code",
   "execution_count": 6,
   "metadata": {},
   "outputs": [],
   "source": [
    "def mutate(x, prob=0.05):\n",
    "    change = np.random.choice([0, 1], p=[1 - prob, prob])\n",
    "    if change == 1:\n",
    "        i = random.randint(0, len(x) - 1)\n",
    "        j = random.randint(0, len(x) - 1)    \n",
    "        if (i > j) :\n",
    "            x[j:i] = x[j:i][::-1]\n",
    "        else:\n",
    "            x[i:j] = x[i:j][::-1]\n",
    "    return x"
   ]
  },
  {
   "cell_type": "code",
   "execution_count": 7,
   "metadata": {
    "pycharm": {}
   },
   "outputs": [],
   "source": [
    "def genetic(max_generation=100000, population_size=5):\n",
    "    x, _ = read_points(\"../Datasets/tsp.csv\", 0)\n",
    "    population = []\n",
    "    distances = []\n",
    "    random.seed(time())\n",
    "    for i in range(population_size):\n",
    "        copy = x[:]\n",
    "        np.random.shuffle(copy)\n",
    "        population.append(copy)\n",
    "        distances.append(path_length(population[i]))\n",
    "\n",
    "    for _ in tqdm_notebook(range(max_generation)):\n",
    "        first_best = distances.index(min(distances))\n",
    "        second_best = distances.index(min(distances[:first_best] + distances[first_best + 1:]))\n",
    "        child1, child2 = cross(population[first_best], population[second_best])\n",
    "        child1 = mutate(child1)\n",
    "        child2 = mutate(child2)\n",
    "        worst = distances.index(max(distances))\n",
    "        ch1_dist = path_length(child1)\n",
    "        if ch1_dist < distances[worst]:\n",
    "            population[worst] = child1\n",
    "            distances[worst] = ch1_dist\n",
    "        worst = distances.index(max(distances))\n",
    "        ch2_dist = path_length(child2)\n",
    "        if ch2_dist < distances[worst]:\n",
    "            population[worst] = child2\n",
    "            distances[worst] = ch2_dist\n",
    "    \n",
    "    x = population[distances.index(min(distances))]\n",
    "    print(\"Length = \" + str(path_length(x)))\n",
    "\n",
    "    l1_path = []\n",
    "    for i in range(1, len(x)):\n",
    "        l1_path.append(x[i - 1])\n",
    "        l1_path.append([x[i - 1][0], x[i][1]])\n",
    "    l1_path.append(x[len(x) - 1])\n",
    "    plt.plot(np.array(l1_path)[:,0], np.array(l1_path)[:,1])\n",
    "    plt.show()"
   ]
  },
  {
   "cell_type": "code",
   "execution_count": 8,
   "metadata": {},
   "outputs": [
    {
     "data": {
      "application/vnd.jupyter.widget-view+json": {
       "model_id": "27feb0c669b34992b5c0a7e9152611bf",
       "version_major": 2,
       "version_minor": 0
      },
      "text/plain": [
       "HBox(children=(IntProgress(value=0, max=100000), HTML(value=u'')))"
      ]
     },
     "metadata": {},
     "output_type": "display_data"
    },
    {
     "name": "stdout",
     "output_type": "stream",
     "text": [
      "\n",
      "Length = 9480.0\n"
     ]
    },
    {
     "data": {
      "image/png": "[encoded data removed]",
      "text/plain": [
       "<Figure size 1080x1080 with 1 Axes>"
      ]
     },
     "metadata": {
      "needs_background": "light"
     },
     "output_type": "display_data"
    }
   ],
   "source": [
    "genetic()"
   ]
  },
  {
   "cell_type": "code",
   "execution_count": null,
   "metadata": {},
   "outputs": [],
   "source": []
  }
 ],
 "metadata": {
  "kernelspec": {
   "display_name": "Python 2",
   "language": "python",
   "name": "python2"
  },
  "language_info": {
   "codemirror_mode": {
    "name": "ipython",
    "version": 2
   },
   "file_extension": ".py",
   "mimetype": "text/x-python",
   "name": "python",
   "nbconvert_exporter": "python",
   "pygments_lexer": "ipython2",
   "version": "2.7.10"
  }
 },
 "nbformat": 4,
 "nbformat_minor": 1
}
