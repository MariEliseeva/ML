{
 "cells": [
  {
   "cell_type": "code",
   "execution_count": 1,
   "metadata": {
    "pycharm": {
     "is_executing": false
    }
   },
   "outputs": [],
   "source": [
    "import csv\n",
    "import heapq"
   ]
  },
  {
   "cell_type": "code",
   "execution_count": 2,
   "metadata": {},
   "outputs": [],
   "source": [
    "def read_points(dataset_name, label_col_number):\n",
    "    points = []\n",
    "    labels = []\n",
    "    with open (dataset_name, 'r') as fin:\n",
    "        csvReader = csv.reader(fin, delimiter=',')\n",
    "        for row in csvReader:\n",
    "            if csvReader.line_num != 1:\n",
    "                float_row = []\n",
    "                for i in range(0, len(row)):\n",
    "                    if i != label_col_number:\n",
    "                        float_row.append(float(row[i]))\n",
    "                points.append(float_row)\n",
    "                labels.append(row[label_col_number])\n",
    "    return points, labels"
   ]
  },
  {
   "cell_type": "code",
   "execution_count": 3,
   "metadata": {},
   "outputs": [],
   "source": [
    "def kNN(points, labels, x, k):\n",
    "    kMins = []\n",
    "    heapq.heapify(kMins)\n",
    "    for i in range(len(points)):\n",
    "        point = points[i]\n",
    "        sum = 0.0\n",
    "        for j in range(len(point)):\n",
    "            sum += (point[j] - x[j]) ** 2\n",
    "        sum = sum ** (0.5)\n",
    "        if len(kMins) < k:\n",
    "            heapq.heappush(kMins, (-sum, labels[i]))\n",
    "        else:\n",
    "            heapq.heappushpop(kMins, (-sum, labels[i]))\n",
    "    answer = []\n",
    "    for i in range(k):\n",
    "        lbls = {}\n",
    "        count, lbl = 0, '' \n",
    "        for (_, label) in list(kMins):\n",
    "            lbls[label] = lbls.get(label, 0) + 1\n",
    "            if lbls[label] >= count:\n",
    "                count, lbl = lbls[label], label\n",
    "        answer.append(lbl)\n",
    "        heapq.heappop(kMins)\n",
    "    return answer"
   ]
  },
  {
   "cell_type": "code",
   "execution_count": 4,
   "metadata": {},
   "outputs": [],
   "source": [
    "from tqdm import tqdm_notebook"
   ]
  },
  {
   "cell_type": "code",
   "execution_count": 5,
   "metadata": {},
   "outputs": [],
   "source": [
    "def LOO(dataset_name, k, label_col_number):\n",
    "    points, labels = read_points(dataset_name, label_col_number)\n",
    "    loo = [0] * k\n",
    "    for i in tqdm_notebook(range(len(points))):\n",
    "        point = points[i]\n",
    "        left_labels = list(labels)\n",
    "        del left_labels[points.index(point)]\n",
    "        left_points = list(points)\n",
    "        left_points.remove(point)\n",
    "        \n",
    "        a = kNN(left_points, left_labels, point, k)\n",
    "        for j in range(k):\n",
    "            if a[j] != labels[i]:\n",
    "                loo[j] += 1\n",
    "    for j in range(k):\n",
    "        loo[j] = loo[j] * 1.0 / len(points)\n",
    "    return loo\n",
    "                    "
   ]
  },
  {
   "cell_type": "code",
   "execution_count": 11,
   "metadata": {},
   "outputs": [
    {
     "data": {
      "application/vnd.jupyter.widget-view+json": {
       "model_id": "31ab9df21f1c488b91d733ffe93391ea",
       "version_major": 2,
       "version_minor": 0
      },
      "text/plain": [
       "HBox(children=(IntProgress(value=0, max=569), HTML(value=u'')))"
      ]
     },
     "metadata": {},
     "output_type": "display_data"
    },
    {
     "name": "stdout",
     "output_type": "stream",
     "text": [
      "k = 10, loo = 0.0702987697715\n",
      "k = 9, loo = 0.066783831283\n",
      "k = 8, loo = 0.0632688927944\n",
      "k = 7, loo = 0.0685413005272\n",
      "k = 6, loo = 0.0650263620387\n",
      "k = 5, loo = 0.066783831283\n",
      "k = 4, loo = 0.0738137082601\n",
      "k = 3, loo = 0.0738137082601\n",
      "k = 2, loo = 0.0843585237258\n",
      "k = 1, loo = 0.0843585237258\n"
     ]
    }
   ],
   "source": [
    "loo = LOO('datasets/cancer.csv', 10, 0)\n",
    "for i in range(len(loo)):\n",
    "    print(\"k = \" + str(len(loo) - i) + \", loo = \" + str(loo[i]))"
   ]
  },
  {
   "cell_type": "code",
   "execution_count": 12,
   "metadata": {},
   "outputs": [
    {
     "data": {
      "application/vnd.jupyter.widget-view+json": {
       "model_id": "926921ac13824a18b0c176fce5333284",
       "version_major": 2,
       "version_minor": 0
      },
      "text/plain": [
       "HBox(children=(IntProgress(value=0, max=4601), HTML(value=u'')))"
      ]
     },
     "metadata": {},
     "output_type": "display_data"
    },
    {
     "name": "stdout",
     "output_type": "stream",
     "text": [
      "k = 10, loo = 0.19691371441\n",
      "k = 9, loo = 0.202782003912\n",
      "k = 8, loo = 0.194088241687\n",
      "k = 7, loo = 0.195826994132\n",
      "k = 6, loo = 0.186698543795\n",
      "k = 5, loo = 0.185394479461\n",
      "k = 4, loo = 0.176700717235\n",
      "k = 3, loo = 0.184742447294\n",
      "k = 2, loo = 0.168876331232\n",
      "k = 1, loo = 0.168876331232\n"
     ]
    }
   ],
   "source": [
    "loo = LOO('datasets/spam.csv', 10, 57)\n",
    "for i in range(len(loo)):\n",
    "    print(\"k = \" + str(len(loo) - i) + \", loo = \" + str(loo[i]))"
   ]
  },
  {
   "cell_type": "code",
   "execution_count": null,
   "metadata": {},
   "outputs": [],
   "source": []
  }
 ],
 "metadata": {
  "kernelspec": {
   "display_name": "Python 2",
   "language": "python",
   "name": "python2"
  },
  "language_info": {
   "codemirror_mode": {
    "name": "ipython",
    "version": 2
   },
   "file_extension": ".py",
   "mimetype": "text/x-python",
   "name": "python",
   "nbconvert_exporter": "python",
   "pygments_lexer": "ipython2",
   "version": "2.7.10"
  }
 },
 "nbformat": 4,
 "nbformat_minor": 1
}
