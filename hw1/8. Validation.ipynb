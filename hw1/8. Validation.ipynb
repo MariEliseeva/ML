{
 "cells": [
  {
   "cell_type": "code",
   "execution_count": 2,
   "metadata": {
    "pycharm": {
     "is_executing": false
    }
   },
   "outputs": [],
   "source": [
    "import csv\n",
    "import numpy as np\n",
    "import matplotlib.pyplot as plt\n",
    "from tqdm import tqdm_notebook"
   ]
  },
  {
   "cell_type": "code",
   "execution_count": 3,
   "metadata": {},
   "outputs": [],
   "source": [
    "def read_points(dataset_name, label_col_number):\n",
    "    points = []\n",
    "    labels = []\n",
    "    with open (dataset_name, 'r') as fin:\n",
    "        csvReader = csv.reader(fin, delimiter=',')\n",
    "        for row in csvReader:\n",
    "            if csvReader.line_num != 1:\n",
    "                float_row = []\n",
    "                for i in range(0, len(row)):\n",
    "                    if i != label_col_number:\n",
    "                        float_row.append(float(row[i]))\n",
    "                points.append(float_row)\n",
    "                labels.append(row[label_col_number])\n",
    "    return points, labels"
   ]
  },
  {
   "cell_type": "code",
   "execution_count": 4,
   "metadata": {},
   "outputs": [],
   "source": [
    "import random"
   ]
  },
  {
   "cell_type": "code",
   "execution_count": 5,
   "metadata": {},
   "outputs": [],
   "source": [
    "def split(points, labels, true_label):\n",
    "    test_indexes = random.sample(range(len(points)), len(points) // 5)\n",
    "    true_label_train_number = 0\n",
    "    true_label_test_number = 0\n",
    "    for i in range(len(points)):\n",
    "        if labels[i] == true_label:\n",
    "            if i in test_indexes:\n",
    "                true_label_test_number += 1\n",
    "            else:\n",
    "                true_label_train_number += 1\n",
    "    return true_label_train_number, true_label_test_number\n",
    "            "
   ]
  },
  {
   "cell_type": "code",
   "execution_count": 12,
   "metadata": {},
   "outputs": [],
   "source": [
    "def validation(dataset_name, label_col_number, true_label):\n",
    "    points, labels = read_points(dataset_name, label_col_number)\n",
    "    true_label_train_number, true_label_test_number = split(points, labels, true_label)\n",
    "    print(\"Train: \" + str(true_label_train_number) + \" : \" + str((len(points) - len(points) // 5) - true_label_train_number) + \" = \" + str(true_label_train_number * 1.0 / ((len(points) - len(points) // 5) - true_label_train_number)))\n",
    "    print(\"Test: \" + str(true_label_test_number) + \" : \" + str(len(points) // 5 - true_label_test_number) + \" = \" + str(true_label_test_number * 1.0 / (len(points) // 5 - true_label_test_number)))"
   ]
  },
  {
   "cell_type": "code",
   "execution_count": 13,
   "metadata": {},
   "outputs": [
    {
     "name": "stdout",
     "output_type": "stream",
     "text": [
      "Train: 169 : 287 = 0.588850174216\n",
      "Test: 43 : 70 = 0.614285714286\n"
     ]
    }
   ],
   "source": [
    "validation('datasets/cancer.csv', 0, 'M')"
   ]
  },
  {
   "cell_type": "code",
   "execution_count": null,
   "metadata": {},
   "outputs": [],
   "source": []
  }
 ],
 "metadata": {
  "kernelspec": {
   "display_name": "Python 2",
   "language": "python",
   "name": "python2"
  },
  "language_info": {
   "codemirror_mode": {
    "name": "ipython",
    "version": 2
   },
   "file_extension": ".py",
   "mimetype": "text/x-python",
   "name": "python",
   "nbconvert_exporter": "python",
   "pygments_lexer": "ipython2",
   "version": "2.7.10"
  }
 },
 "nbformat": 4,
 "nbformat_minor": 1
}
