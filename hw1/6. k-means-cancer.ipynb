{
 "cells": [
  {
   "cell_type": "code",
   "execution_count": 1,
   "metadata": {
    "pycharm": {
     "is_executing": false
    }
   },
   "outputs": [],
   "source": [
    "import csv\n",
    "import matplotlib\n",
    "import matplotlib.pyplot as plt\n",
    "matplotlib.rcParams['figure.figsize'] = [5, 5]"
   ]
  },
  {
   "cell_type": "code",
   "execution_count": 2,
   "metadata": {},
   "outputs": [],
   "source": [
    "def draw_point(x, y, color, size=20):\n",
    "    plt.scatter(x, y, size, color)"
   ]
  },
  {
   "cell_type": "code",
   "execution_count": 3,
   "metadata": {},
   "outputs": [],
   "source": [
    "import numpy as np"
   ]
  },
  {
   "cell_type": "code",
   "execution_count": 4,
   "metadata": {},
   "outputs": [],
   "source": [
    "def read_points(dataset_name):\n",
    "    points = []\n",
    "    labels = []\n",
    "    with open (dataset_name, 'r') as fin:\n",
    "        csvReader = csv.reader(fin, delimiter=',')\n",
    "        for row in csvReader:\n",
    "            if csvReader.line_num != 1:\n",
    "                float_row = []\n",
    "                for i in range(1, len(row)):\n",
    "                    float_row.append(float(row[i]))\n",
    "                points.append(float_row)\n",
    "                labels.append(row[0])\n",
    "    return points, labels"
   ]
  },
  {
   "cell_type": "code",
   "execution_count": 5,
   "metadata": {},
   "outputs": [],
   "source": [
    "def generateMinMax(points):\n",
    "    mins = []\n",
    "    maxs = []\n",
    "    for point in points:\n",
    "        if mins == []:\n",
    "            for i in range(len(point)):\n",
    "                mins.append(point[i])\n",
    "                maxs.append(point[i])\n",
    "        else:\n",
    "            for i in range(len(point)):\n",
    "                mins[i] = min(mins[i], point[i])\n",
    "                maxs[i] = max(maxs[i], point[i])\n",
    "    return (mins, maxs)"
   ]
  },
  {
   "cell_type": "code",
   "execution_count": 6,
   "metadata": {},
   "outputs": [],
   "source": [
    "def distance(x, y):\n",
    "    sum = 0\n",
    "    for i in range(len(x)):\n",
    "        sum += (x[i] - y[i]) ** 2\n",
    "    return sum ** (0.5)"
   ]
  },
  {
   "cell_type": "code",
   "execution_count": 7,
   "metadata": {},
   "outputs": [],
   "source": [
    "def kMeans(dataset_name, cluster_num):\n",
    "    colorPoints = [ [] for i in range(cluster_num)]\n",
    "    centers = []\n",
    "    points, labels = read_points(dataset_name) \n",
    "    \n",
    "    def nextIteration(centers):\n",
    "        for point in points:\n",
    "            minD = distance(point, centers[0])\n",
    "            color = 0\n",
    "            for i in range(1, len(centers)):\n",
    "                d = distance(point, centers[i])\n",
    "                if minD > d:\n",
    "                    minD = d\n",
    "                    color = i\n",
    "            colorPoints[color].append(point)\n",
    "        centers = []            \n",
    "        for i in range(cluster_num):\n",
    "            if len(colorPoints[i]) == 0:\n",
    "                return []\n",
    "            summ = [0] * len(colorPoints[i][0])\n",
    "            for point in colorPoints[i]:\n",
    "                for j in range(len(point)):\n",
    "                    summ[j] += point[j]\n",
    "            for j in range(len(point)):\n",
    "                summ[j] = summ[j] / len(colorPoints[i])\n",
    "            centers.append(summ)\n",
    "        return centers\n",
    "    \n",
    "    def start():\n",
    "        mins, maxs = generateMinMax(points)\n",
    "        ccenters = []\n",
    "        for j in range(cluster_num):\n",
    "            center = []\n",
    "            for i in range(len(mins)):\n",
    "                center.append(np.random.uniform(mins[i], maxs[i]))\n",
    "            centers.append(center)\n",
    "        colorPoints = [ [] for i in range(cluster_num)]\n",
    "        return centers\n",
    "    \n",
    "    centers = start()\n",
    "    while (True):\n",
    "        oldCenters = centers    \n",
    "        centers = nextIteration(centers)\n",
    "        if centers == []:\n",
    "            centers = start()\n",
    "        else:\n",
    "            if centers == oldCenters:\n",
    "                purity = 0\n",
    "                for i in range(cluster_num):\n",
    "                    count, lbl = 0, '' \n",
    "                    lbls = {}\n",
    "                    for point in colorPoints[i]:\n",
    "                        label = labels[points.index(point)]\n",
    "                        lbls[label] = lbls.get(label, 0) + 1\n",
    "                        if lbls[label] >= count:\n",
    "                            count, lbl = lbls[label], label\n",
    "                    purity += count\n",
    "                purity = purity * 1.0 / len(points)    \n",
    "                return purity\n",
    "            colorPoints = [ [] for i in range(cluster_num)]"
   ]
  },
  {
   "cell_type": "code",
   "execution_count": 8,
   "metadata": {},
   "outputs": [
    {
     "name": "stdout",
     "output_type": "stream",
     "text": [
      "0.854130052724\n",
      "0.866432337434\n",
      "0.84007029877\n",
      "0.898066783831\n"
     ]
    }
   ],
   "source": [
    "for i in [2, 3, 5, 10]:\n",
    "    print(kMeans('datasets/cancer.csv', i))"
   ]
  }
 ],
 "metadata": {
  "kernelspec": {
   "display_name": "Python 2",
   "language": "python",
   "name": "python2"
  },
  "language_info": {
   "codemirror_mode": {
    "name": "ipython",
    "version": 2
   },
   "file_extension": ".py",
   "mimetype": "text/x-python",
   "name": "python",
   "nbconvert_exporter": "python",
   "pygments_lexer": "ipython2",
   "version": "2.7.10"
  }
 },
 "nbformat": 4,
 "nbformat_minor": 1
}
