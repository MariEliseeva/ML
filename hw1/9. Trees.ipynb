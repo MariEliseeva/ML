{
 "cells": [
  {
   "cell_type": "code",
   "execution_count": 1,
   "metadata": {
    "pycharm": {
     "is_executing": false
    }
   },
   "outputs": [],
   "source": [
    "import csv\n",
    "import numpy as np\n",
    "import matplotlib.pyplot as plt\n",
    "from tqdm import tqdm_notebook"
   ]
  },
  {
   "cell_type": "code",
   "execution_count": 2,
   "metadata": {},
   "outputs": [],
   "source": [
    "def read_points(dataset_name, label_col_number):\n",
    "    points = []\n",
    "    labels = []\n",
    "    with open (dataset_name, 'r') as fin:\n",
    "        csvReader = csv.reader(fin, delimiter=',')\n",
    "        for row in csvReader:\n",
    "            if csvReader.line_num != 1:\n",
    "                float_row = []\n",
    "                for i in range(0, len(row)):\n",
    "                    if i != label_col_number:\n",
    "                        float_row.append(float(row[i]))\n",
    "                points.append(float_row)\n",
    "                labels.append(row[label_col_number])\n",
    "    return points, labels"
   ]
  },
  {
   "cell_type": "code",
   "execution_count": 3,
   "metadata": {},
   "outputs": [],
   "source": [
    "import itertools\n",
    "import random"
   ]
  },
  {
   "cell_type": "code",
   "execution_count": 4,
   "metadata": {},
   "outputs": [],
   "source": [
    "def p_k(labels, R, label):\n",
    "    pk = 0\n",
    "    for index in R:\n",
    "        if labels[index] == label:\n",
    "            pk += 1\n",
    "    return pk * 1.0 / len(R)"
   ]
  },
  {
   "cell_type": "code",
   "execution_count": 5,
   "metadata": {},
   "outputs": [],
   "source": [
    "def gini(labels, R, unique_labels):\n",
    "    s = 0\n",
    "    for label in unique_labels:\n",
    "        s+= p_k(labels, R, label) * (1 - p_k(labels, R, label))\n",
    "    return s"
   ]
  },
  {
   "cell_type": "code",
   "execution_count": 6,
   "metadata": {},
   "outputs": [],
   "source": [
    "def split_vertex(labels, points, vertex_points, unique_labels, N, max_depth):\n",
    "    label0 = labels[vertex_points[0]]\n",
    "    eq_labels = True\n",
    "    for index in vertex_points:\n",
    "        if labels[index] != label0:\n",
    "            eq_labels = False\n",
    "            break;\n",
    "    if eq_labels:\n",
    "        return 1, label0\n",
    "    \n",
    "    lbls = {}\n",
    "    count, lbl = 0, '' \n",
    "    for index in vertex_points:\n",
    "        label = labels[index]\n",
    "        lbls[label] = lbls.get(label, 0) + 1\n",
    "        if lbls[label] >= count:\n",
    "            count, lbl = lbls[label], label    \n",
    "    if max_depth == 1:\n",
    "        return count * 1.0 / len(vertex_points), lbl\n",
    "    I = gini(labels, vertex_points, unique_labels)\n",
    "    maxIG = 0\n",
    "    for j in range(len(points[0])):\n",
    "        feature_vals = [i[j] for i in points]\n",
    "        max_val = np.array(feature_vals).max()\n",
    "        min_val = np.array(feature_vals).min()\n",
    "        for i in range(N + 1):\n",
    "            value = min_val + i * 1.0 * (max_val - min_val) / N\n",
    "            left = list(filter(lambda x: points[x][j] < value, vertex_points))\n",
    "            right = list(set(vertex_points) - set(left))\n",
    "            if left and right:\n",
    "                Il = gini(labels, left, unique_labels)\n",
    "                Ir = gini(labels, right, unique_labels)\n",
    "                IG = I - len(left) * 1.0 / len(vertex_points) * Il - len(right) * 1.0 / len(vertex_points) * Ir\n",
    "                if maxIG < IG:\n",
    "                    maxIG = IG\n",
    "                    maxL = left\n",
    "                    maxR = right\n",
    "                    maxJ = j\n",
    "                    maxValue = value\n",
    "    if maxIG == 0:\n",
    "         return count * 1.0 / len(vertex_points), lbl \n",
    "    return count * 1.0 / len(vertex_points), lbl, maxJ, maxValue, split_vertex(labels, points, maxL, unique_labels, N, max_depth - 1), split_vertex(labels, points, maxR, unique_labels, N, max_depth - 1)"
   ]
  },
  {
   "cell_type": "code",
   "execution_count": 7,
   "metadata": {},
   "outputs": [],
   "source": [
    "def build_tree(points, labels, unique_labels, N, max_depth):\n",
    "    indexes = [i for i in range(len(points))]\n",
    "    return split_vertex(labels, points, indexes, unique_labels, N, max_depth)"
   ]
  },
  {
   "cell_type": "code",
   "execution_count": 8,
   "metadata": {},
   "outputs": [],
   "source": [
    "def split(points, labels):\n",
    "    test_validate_indexes = random.sample(range(len(points)), len(points) * 3 // 10)\n",
    "    train_indexes = set([i for i in range(len(points))]) - set(test_validate_indexes)\n",
    "    test_indexes = random.sample(test_validate_indexes, len(test_validate_indexes) // 2)\n",
    "    validate_indexes = set(test_validate_indexes) - set(test_indexes)\n",
    "    return [points[i] for i in train_indexes], [labels[i] for i in train_indexes], [points[i] for i in validate_indexes], [labels[i] for i in validate_indexes], [points[i] for i in test_indexes], [labels[i] for i in test_indexes]"
   ]
  },
  {
   "cell_type": "code",
   "execution_count": 9,
   "metadata": {},
   "outputs": [],
   "source": [
    "def get_label_from_tree(tree, point, max_depth):\n",
    "    if len(tree) == 2 or max_depth == 1:\n",
    "        return tree[0], tree[1]\n",
    "    if point[tree[2]] < tree[3]:\n",
    "        score, label = get_label_from_tree(tree[4], point, max_depth - 1)\n",
    "        return score, label\n",
    "    score, label = get_label_from_tree(tree[5], point, max_depth - 1)\n",
    "    return score, label"
   ]
  },
  {
   "cell_type": "code",
   "execution_count": 10,
   "metadata": {},
   "outputs": [],
   "source": [
    "def get_best_depth(tree, points, labels):\n",
    "    max_cnt = -1\n",
    "    max_depth = 0\n",
    "    for depth in range(1, 11):\n",
    "        cnt = 0\n",
    "        for i in range(len(points)):\n",
    "            if labels[i] == get_label_from_tree(tree, points[i], depth)[1]:\n",
    "                cnt += 1\n",
    "        if cnt > max_cnt:\n",
    "            max_cnt = cnt\n",
    "            max_depth = depth\n",
    "    return max_depth\n",
    "            "
   ]
  },
  {
   "cell_type": "code",
   "execution_count": 11,
   "metadata": {},
   "outputs": [],
   "source": [
    "def roc(points, labels, true_label, scores, true_label_scores):\n",
    "    x = [0]\n",
    "    y = [0]\n",
    "    for j in range(len(true_label_scores)):\n",
    "        true_score = true_label_scores[j]\n",
    "        tp = 0\n",
    "        fp = 0\n",
    "        tn = 0\n",
    "        fn = 0\n",
    "        for i in range(len(scores)):\n",
    "            if scores[i] >= true_score:\n",
    "                if labels[i] == true_label:\n",
    "                    tp += 1\n",
    "                else:\n",
    "                    fp += 1\n",
    "            else:\n",
    "                if labels[i] == true_label:\n",
    "                    fn += 1\n",
    "                else:\n",
    "                    tn += 1\n",
    "        if tp + fn != 0:\n",
    "            y.append(tp * 1.0 / (tp + fn))\n",
    "        else:\n",
    "            y.append(0)\n",
    "        if fp + tn != 0:\n",
    "            x.append(fp * 1.0 / (fp + tn))\n",
    "        else:\n",
    "            x.append(0)\n",
    "    return x, y    "
   ]
  },
  {
   "cell_type": "code",
   "execution_count": 12,
   "metadata": {},
   "outputs": [],
   "source": [
    "def eval_test(dataset_name, label_col_number, true_label, N):\n",
    "    points, labels = read_points(dataset_name, label_col_number)\n",
    "    unique_labels = np.unique(np.array(labels)).tolist()\n",
    "    train_points, train_labels, validate_points, validate_labels, test_points, test_labels = split(points, labels)\n",
    "    tree = build_tree(train_points, train_labels, unique_labels, N, 10)\n",
    "    depth = get_best_depth(tree, validate_points, validate_labels)\n",
    "    print(\"Best depth = \" + str(depth))\n",
    "    scores = []\n",
    "    for i in range(len(test_points)):\n",
    "        point = test_points[i]\n",
    "        score, label = get_label_from_tree(tree, point, depth)\n",
    "        if label != true_label:\n",
    "            score = 1 - score\n",
    "        scores.append(score)  \n",
    "    true_label_scores = list(scores)\n",
    "    true_label_scores = sorted(set(true_label_scores), reverse=True)\n",
    "    x, y = roc(test_points, test_labels, true_label, scores, true_label_scores)\n",
    "    plt.plot(x, y)\n",
    "    plt.show()"
   ]
  },
  {
   "cell_type": "code",
   "execution_count": 13,
   "metadata": {},
   "outputs": [
    {
     "name": "stdout",
     "output_type": "stream",
     "text": [
      "Best depth = 4\n"
     ]
    },
    {
     "data": {
      "image/png": "[encoded data removed]",
      "text/plain": [
       "<Figure size 432x288 with 1 Axes>"
      ]
     },
     "metadata": {
      "needs_background": "light"
     },
     "output_type": "display_data"
    }
   ],
   "source": [
    "eval_test('datasets/cancer.csv', 0, 'M', 1000)"
   ]
  },
  {
   "cell_type": "code",
   "execution_count": 14,
   "metadata": {},
   "outputs": [
    {
     "name": "stdout",
     "output_type": "stream",
     "text": [
      "Best depth = 7\n"
     ]
    },
    {
     "data": {
      "image/png": "[encoded data removed]",
      "text/plain": [
       "<Figure size 432x288 with 1 Axes>"
      ]
     },
     "metadata": {
      "needs_background": "light"
     },
     "output_type": "display_data"
    }
   ],
   "source": [
    "eval_test('datasets/spam.csv', 57, '1', 100)"
   ]
  }
 ],
 "metadata": {
  "kernelspec": {
   "display_name": "Python 2",
   "language": "python",
   "name": "python2"
  },
  "language_info": {
   "codemirror_mode": {
    "name": "ipython",
    "version": 2
   },
   "file_extension": ".py",
   "mimetype": "text/x-python",
   "name": "python",
   "nbconvert_exporter": "python",
   "pygments_lexer": "ipython2",
   "version": "2.7.10"
  }
 },
 "nbformat": 4,
 "nbformat_minor": 1
}
