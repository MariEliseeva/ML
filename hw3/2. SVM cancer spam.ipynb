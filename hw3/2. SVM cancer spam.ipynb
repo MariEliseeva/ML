{
 "cells": [
  {
   "cell_type": "code",
   "execution_count": 1,
   "metadata": {
    "pycharm": {
     "is_executing": false
    }
   },
   "outputs": [],
   "source": [
    "import csv\n",
    "import matplotlib\n",
    "import matplotlib.pyplot as plt\n",
    "from tqdm import tqdm_notebook\n",
    "import random\n",
    "import numpy as np\n",
    "from sklearn.svm import SVC\n",
    "from sklearn.ensemble import RandomForestClassifier"
   ]
  },
  {
   "cell_type": "code",
   "execution_count": 2,
   "metadata": {
    "pycharm": {
     "is_executing": false
    }
   },
   "outputs": [],
   "source": [
    "def read_points(dataset_name, label_col_number):\n",
    "    points = []\n",
    "    labels = []\n",
    "    with open (dataset_name, 'r') as fin:\n",
    "        csvReader = csv.reader(fin, delimiter=',')\n",
    "        for row in csvReader:\n",
    "            if csvReader.line_num != 1:\n",
    "                float_row = []\n",
    "                for i in range(0, len(row)):\n",
    "                    if i != label_col_number:\n",
    "                        float_row.append(float(row[i]))\n",
    "                points.append(float_row)\n",
    "                labels.append(row[label_col_number])\n",
    "    return np.array(points), np.array(labels)"
   ]
  },
  {
   "cell_type": "code",
   "execution_count": 3,
   "metadata": {},
   "outputs": [],
   "source": [
    "def split(points, labels):\n",
    "    validate_indexes = random.sample(range(len(points)), len(points) // 5)\n",
    "    train_indexes = set([i for i in range(len(points))]) - set(validate_indexes)\n",
    "    return [points[i] for i in train_indexes], [labels[i] for i in train_indexes], [points[i] for i in validate_indexes], [labels[i] for i in validate_indexes]"
   ]
  },
  {
   "cell_type": "code",
   "execution_count": 4,
   "metadata": {},
   "outputs": [],
   "source": [
    "def foo(clf, train_points, train_labels):\n",
    "    clf.fit(train_points, train_labels)"
   ]
  },
  {
   "cell_type": "code",
   "execution_count": 5,
   "metadata": {},
   "outputs": [],
   "source": [
    "import multiprocessing\n",
    "\n",
    "from time import time\n",
    "from time import sleep\n",
    "def chech_time(clf, train_points, train_labels, validate_points, validate_labels):\n",
    "    p = multiprocessing.Process(target=clf.fit, args=(train_points, train_labels))\n",
    "    p.start()\n",
    "    p.join(10)\n",
    "    if p.is_alive():\n",
    "        p.terminate()\n",
    "        p.join()\n",
    "        return 0, 0\n",
    "    start = time()\n",
    "    clf.fit(train_points, train_labels)\n",
    "    end = time()\n",
    "    accuracy = round(clf.score(validate_points, validate_labels) * 100)\n",
    "    return accuracy, end - start"
   ]
  },
  {
   "cell_type": "code",
   "execution_count": 6,
   "metadata": {},
   "outputs": [],
   "source": [
    "def add_accuracy(accuracy, time, accuracy_times, text):\n",
    "    if accuracy == 0:\n",
    "        text += \": time is more than 10 seconds.\"\n",
    "    else:\n",
    "        text += \": time = \" + str(time) + \" seconds.\"   \n",
    "    if accuracy in accuracy_times:\n",
    "        accuracy_times[accuracy].append(text)\n",
    "    else:\n",
    "        accuracy_times[accuracy]=[text]\n",
    "    return accuracy_times"
   ]
  },
  {
   "cell_type": "code",
   "execution_count": 7,
   "metadata": {},
   "outputs": [],
   "source": [
    "def compare_SVM_RandomForest_time(dataset_name, label_col_number):\n",
    "    points, labels = read_points(dataset_name, label_col_number)\n",
    "    train_points, train_labels, validate_points, validate_labels = split(points, labels)\n",
    "    accuracy_times = {}\n",
    "    \n",
    "    accuracy, time = chech_time(SVC(C=1, kernel='poly', degree=2, gamma='auto'), train_points, train_labels, validate_points, validate_labels)\n",
    "    accuracy_times = add_accuracy(accuracy, time, accuracy_times, \"SVM, C=1, poly, deg=2\")\n",
    "    \n",
    "    accuracy, time = chech_time(SVC(C=1, kernel='linear', gamma='auto'), train_points, train_labels, validate_points, validate_labels)\n",
    "    accuracy_times = add_accuracy(accuracy, time, accuracy_times, \"SVM, C=1, linear\")\n",
    "    \n",
    "    accuracy, time = chech_time(SVC(C=5, kernel='poly', degree=2, gamma='auto'), train_points, train_labels, validate_points, validate_labels)\n",
    "    accuracy_times = add_accuracy(accuracy, time, accuracy_times, \"SVM, C=5, poly, deg=2\")\n",
    "    \n",
    "    accuracy, time = chech_time(SVC(C=5, kernel='linear', gamma='auto'), train_points, train_labels, validate_points, validate_labels)\n",
    "    accuracy_times = add_accuracy(accuracy, time, accuracy_times, \"SVM, C=5, linear\")\n",
    "    \n",
    "    accuracy, time = chech_time(SVC(C=10, kernel='poly', degree=2, gamma='auto'), train_points, train_labels, validate_points, validate_labels)\n",
    "    accuracy_times = add_accuracy(accuracy, time, accuracy_times, \"SVM, C=10, poly, deg=2\")\n",
    "    \n",
    "    accuracy, time = chech_time(SVC(C=10, kernel='linear', gamma='auto'), train_points, train_labels, validate_points, validate_labels)\n",
    "    accuracy_times = add_accuracy(accuracy, time, accuracy_times, \"SVM, C=10, linear\")\n",
    "    \n",
    "    accuracy, time = chech_time(SVC(C=1, kernel='rbf', gamma='auto'), train_points, train_labels, validate_points, validate_labels)\n",
    "    accuracy_times = add_accuracy(accuracy, time, accuracy_times, \"SVM, C=1, rbf\")\n",
    "    \n",
    "    accuracy, time = chech_time(SVC(C=5, kernel='rbf', gamma='auto'), train_points, train_labels, validate_points, validate_labels)\n",
    "    accuracy_times = add_accuracy(accuracy, time, accuracy_times, \"SVM, C=5, rbf\")\n",
    "    \n",
    "    accuracy, time = chech_time(SVC(C=10, kernel='rbf', gamma='auto'), train_points, train_labels, validate_points, validate_labels)\n",
    "    accuracy_times = add_accuracy(accuracy, time, accuracy_times, \"SVM, C=10, rbf\")\n",
    "    \n",
    "    accuracy, time = chech_time(SVC(C=1000, kernel='rbf', gamma='auto'), train_points, train_labels, validate_points, validate_labels)\n",
    "    accuracy_times = add_accuracy(accuracy, time, accuracy_times, \"SVM, C=0.1, rbf\")\n",
    "    \n",
    "    for i in range(1, 15):\n",
    "        accuracy, time = chech_time(RandomForestClassifier(max_depth=i, n_estimators=10), train_points, train_labels, validate_points, validate_labels)\n",
    "        accuracy_times = add_accuracy(accuracy, time, accuracy_times, \"RandomForest, depth=\" + str(i))\n",
    "    \n",
    "    for key in sorted(accuracy_times.keys()):\n",
    "        if key != 0:\n",
    "            print(\"Accuracy = \" + str(key * 1.0 / 100))\n",
    "        for elem in accuracy_times[key]:\n",
    "            print(\"    \" + elem)\n",
    "        "
   ]
  },
  {
   "cell_type": "code",
   "execution_count": 8,
   "metadata": {},
   "outputs": [
    {
     "name": "stdout",
     "output_type": "stream",
     "text": [
      "    SVM, C=1, poly, deg=2: time is more than 10 seconds.\n",
      "    SVM, C=5, poly, deg=2: time is more than 10 seconds.\n",
      "    SVM, C=10, poly, deg=2: time is more than 10 seconds.\n",
      "    SVM, C=10, linear: time is more than 10 seconds.\n",
      "Accuracy = 0.56\n",
      "    SVM, C=1, rbf: time = 0.0167980194092 seconds.\n",
      "    SVM, C=5, rbf: time = 0.0227749347687 seconds.\n",
      "    SVM, C=10, rbf: time = 0.0248939990997 seconds.\n",
      "    SVM, C=0.1, rbf: time = 0.0266900062561 seconds.\n",
      "Accuracy = 0.89\n",
      "    RandomForest, depth=1: time = 0.0495510101318 seconds.\n",
      "    RandomForest, depth=2: time = 0.0311138629913 seconds.\n",
      "Accuracy = 0.92\n",
      "    RandomForest, depth=3: time = 0.0355520248413 seconds.\n",
      "Accuracy = 0.93\n",
      "    SVM, C=1, linear: time = 2.42918300629 seconds.\n",
      "    RandomForest, depth=9: time = 0.0577571392059 seconds.\n",
      "    RandomForest, depth=11: time = 0.0444002151489 seconds.\n",
      "    RandomForest, depth=14: time = 0.0352039337158 seconds.\n",
      "Accuracy = 0.94\n",
      "    SVM, C=5, linear: time = 7.07123208046 seconds.\n",
      "    RandomForest, depth=5: time = 0.0449190139771 seconds.\n",
      "    RandomForest, depth=7: time = 0.040699005127 seconds.\n",
      "Accuracy = 0.95\n",
      "    RandomForest, depth=6: time = 0.0455601215363 seconds.\n",
      "    RandomForest, depth=8: time = 0.0484302043915 seconds.\n",
      "    RandomForest, depth=12: time = 0.0341200828552 seconds.\n",
      "    RandomForest, depth=13: time = 0.041286945343 seconds.\n",
      "Accuracy = 0.96\n",
      "    RandomForest, depth=4: time = 0.0332589149475 seconds.\n",
      "    RandomForest, depth=10: time = 0.0402638912201 seconds.\n"
     ]
    }
   ],
   "source": [
    "compare_SVM_RandomForest_time(\"../Datasets/cancer.csv\", 0)"
   ]
  },
  {
   "cell_type": "code",
   "execution_count": 9,
   "metadata": {},
   "outputs": [
    {
     "name": "stdout",
     "output_type": "stream",
     "text": [
      "    SVM, C=1, poly, deg=2: time is more than 10 seconds.\n",
      "    SVM, C=1, linear: time is more than 10 seconds.\n",
      "    SVM, C=5, poly, deg=2: time is more than 10 seconds.\n",
      "    SVM, C=5, linear: time is more than 10 seconds.\n",
      "    SVM, C=10, poly, deg=2: time is more than 10 seconds.\n",
      "    SVM, C=10, linear: time is more than 10 seconds.\n",
      "Accuracy = 0.83\n",
      "    RandomForest, depth=1: time = 0.050528049469 seconds.\n",
      "Accuracy = 0.84\n",
      "    SVM, C=1, rbf: time = 1.09848499298 seconds.\n",
      "Accuracy = 0.85\n",
      "    SVM, C=10, rbf: time = 1.42740702629 seconds.\n",
      "    SVM, C=0.1, rbf: time = 1.49294018745 seconds.\n",
      "Accuracy = 0.86\n",
      "    SVM, C=5, rbf: time = 1.4339799881 seconds.\n",
      "Accuracy = 0.89\n",
      "    RandomForest, depth=2: time = 0.0498950481415 seconds.\n",
      "Accuracy = 0.9\n",
      "    RandomForest, depth=3: time = 0.0535809993744 seconds.\n",
      "Accuracy = 0.92\n",
      "    RandomForest, depth=4: time = 0.060446023941 seconds.\n",
      "Accuracy = 0.93\n",
      "    RandomForest, depth=5: time = 0.0767848491669 seconds.\n",
      "    RandomForest, depth=6: time = 0.0896019935608 seconds.\n",
      "    RandomForest, depth=7: time = 0.0704770088196 seconds.\n",
      "Accuracy = 0.94\n",
      "    RandomForest, depth=9: time = 0.0763549804688 seconds.\n",
      "    RandomForest, depth=10: time = 0.0950140953064 seconds.\n",
      "    RandomForest, depth=11: time = 0.0853509902954 seconds.\n",
      "Accuracy = 0.95\n",
      "    RandomForest, depth=8: time = 0.0755732059479 seconds.\n",
      "    RandomForest, depth=12: time = 0.0896899700165 seconds.\n",
      "    RandomForest, depth=13: time = 0.102862119675 seconds.\n",
      "    RandomForest, depth=14: time = 0.114384174347 seconds.\n"
     ]
    }
   ],
   "source": [
    "compare_SVM_RandomForest_time(\"../Datasets/spam.csv\", 57)"
   ]
  },
  {
   "cell_type": "code",
   "execution_count": null,
   "metadata": {},
   "outputs": [],
   "source": []
  }
 ],
 "metadata": {
  "kernelspec": {
   "display_name": "Python 2",
   "language": "python",
   "name": "python2"
  },
  "language_info": {
   "codemirror_mode": {
    "name": "ipython",
    "version": 2
   },
   "file_extension": ".py",
   "mimetype": "text/x-python",
   "name": "python",
   "nbconvert_exporter": "python",
   "pygments_lexer": "ipython2",
   "version": "2.7.10"
  }
 },
 "nbformat": 4,
 "nbformat_minor": 1
}
