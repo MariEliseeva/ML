{
 "cells": [
  {
   "cell_type": "code",
   "execution_count": 1,
   "metadata": {
    "pycharm": {
     "is_executing": false
    }
   },
   "outputs": [],
   "source": [
    "import csv\n",
    "import matplotlib\n",
    "import matplotlib.pyplot as plt\n",
    "from tqdm import tqdm_notebook\n",
    "import random\n",
    "import numpy as np\n",
    "from sklearn.svm import SVC\n",
    "from sklearn.ensemble import RandomForestClassifier"
   ]
  },
  {
   "cell_type": "code",
   "execution_count": 2,
   "metadata": {
    "pycharm": {
     "is_executing": false
    }
   },
   "outputs": [],
   "source": [
    "def read_points(dataset_name, label_col_number):\n",
    "    points = []\n",
    "    labels = []\n",
    "    with open (dataset_name, 'r') as fin:\n",
    "        csvReader = csv.reader(fin, delimiter=',')\n",
    "        for row in csvReader:\n",
    "            if csvReader.line_num != 1:\n",
    "                float_row = []\n",
    "                for i in range(0, len(row)):\n",
    "                    if i != label_col_number:\n",
    "                        float_row.append(float(row[i]))\n",
    "                points.append(float_row)\n",
    "                labels.append(row[label_col_number])\n",
    "    return np.array(points), np.array(labels)"
   ]
  },
  {
   "cell_type": "code",
   "execution_count": 3,
   "metadata": {},
   "outputs": [],
   "source": [
    "def split(points, labels):\n",
    "    validate_indexes = random.sample(range(len(points)), len(points) // 5)\n",
    "    train_indexes = set([i for i in range(len(points))]) - set(validate_indexes)\n",
    "    return [points[i] for i in train_indexes], [labels[i] for i in train_indexes], [points[i] for i in validate_indexes], [labels[i] for i in validate_indexes]"
   ]
  },
  {
   "cell_type": "code",
   "execution_count": 4,
   "metadata": {},
   "outputs": [],
   "source": [
    "from time import time\n",
    "def chech_time(clf, train_points, train_labels, validate_points, validate_labels):\n",
    "    start = time()\n",
    "    clf.fit(train_points, train_labels)\n",
    "    end = time()\n",
    "    accuracy = round(clf.score(validate_points, validate_labels) * 100)\n",
    "    return accuracy, end - start"
   ]
  },
  {
   "cell_type": "code",
   "execution_count": 5,
   "metadata": {},
   "outputs": [],
   "source": [
    "def add_accuracy(accuracy, time, accuracy_times, text):\n",
    "    text += \": time = \" + str(time) + \" seconds.\"   \n",
    "    if accuracy in accuracy_times:\n",
    "        accuracy_times[accuracy].append(text)\n",
    "    else:\n",
    "        accuracy_times[accuracy]=[text]\n",
    "    return accuracy_times"
   ]
  },
  {
   "cell_type": "code",
   "execution_count": 9,
   "metadata": {},
   "outputs": [],
   "source": [
    "def compare_SVM_RandomForest_time(dataset_name, label_col_number):\n",
    "    points, labels = read_points(dataset_name, label_col_number)\n",
    "    train_points, train_labels, validate_points, validate_labels = split(points, labels)\n",
    "    accuracy_times = {}\n",
    "    \n",
    "    accuracy, time = chech_time(SVC(C=0.01, kernel='poly', degree=2, gamma='auto'), train_points, train_labels, validate_points, validate_labels)\n",
    "    accuracy_times = add_accuracy(accuracy, time, accuracy_times, \"SVM, C=0.01, poly, deg=2\")\n",
    "    print(\"trained for SVM, C=0.01, poly, deg=2\")\n",
    "    \n",
    "    accuracy, time = chech_time(SVC(C=0.01, kernel='linear', gamma='auto'), train_points, train_labels, validate_points, validate_labels)\n",
    "    accuracy_times = add_accuracy(accuracy, time, accuracy_times, \"SVM, C=0.01, linear\")\n",
    "    print(\"trained for SVM, C=0.01, linear\")\n",
    "    \n",
    "    accuracy, time = chech_time(SVC(C=0.001, kernel='poly', degree=2, gamma='auto'), train_points, train_labels, validate_points, validate_labels)\n",
    "    accuracy_times = add_accuracy(accuracy, time, accuracy_times, \"SVM, C=0.001, poly, deg=2\")\n",
    "    print(\"trained for SVM, C=0.001, poly, deg=2\")\n",
    "    \n",
    "    accuracy, time = chech_time(SVC(C=0.001, kernel='linear', gamma='auto'), train_points, train_labels, validate_points, validate_labels)\n",
    "    accuracy_times = add_accuracy(accuracy, time, accuracy_times, \"SVM, C=0.001, linear\")\n",
    "    print(\"trained for SVM, C=0.001, linear\")\n",
    "    \n",
    "    accuracy, time = chech_time(SVC(C=0.0001, kernel='poly', degree=2, gamma='auto'), train_points, train_labels, validate_points, validate_labels)\n",
    "    accuracy_times = add_accuracy(accuracy, time, accuracy_times, \"SVM, C=0.0001, poly, deg=2\")\n",
    "    print(\"trained for SVM, C=0.0001, poly, deg=2\")\n",
    "    \n",
    "    accuracy, time = chech_time(SVC(C=0.0001, kernel='linear', gamma='auto'), train_points, train_labels, validate_points, validate_labels)\n",
    "    accuracy_times = add_accuracy(accuracy, time, accuracy_times, \"SVM, C=0.0001, linear\")\n",
    "    print(\"trained for SVM, C=0.0001, linear\")\n",
    "    \n",
    "    accuracy, time = chech_time(SVC(C=1, kernel='rbf', gamma='auto'), train_points, train_labels, validate_points, validate_labels)\n",
    "    accuracy_times = add_accuracy(accuracy, time, accuracy_times, \"SVM, C=1, rbf\")\n",
    "    print(\"trained for SVM, C=1, rbf\")\n",
    "    \n",
    "    accuracy, time = chech_time(SVC(C=10, kernel='rbf', gamma='auto'), train_points, train_labels, validate_points, validate_labels)\n",
    "    accuracy_times = add_accuracy(accuracy, time, accuracy_times, \"SVM, C=10, rbf\")\n",
    "    print(\"trained for SVM, C=10, rbf\")\n",
    "    \n",
    "    for i in range(1, 15):\n",
    "        accuracy, time = chech_time(RandomForestClassifier(max_depth=i, n_estimators=10), train_points, train_labels, validate_points, validate_labels)\n",
    "        accuracy_times = add_accuracy(accuracy, time, accuracy_times, \"RandomForest, depth=\" + str(i))\n",
    "    \n",
    "    for key in sorted(accuracy_times.keys()):\n",
    "        print(\"Accuracy = \" + str(key * 1.0 / 100))\n",
    "        for elem in accuracy_times[key]:\n",
    "            print(\"    \" + elem)\n",
    "        "
   ]
  },
  {
   "cell_type": "code",
   "execution_count": 10,
   "metadata": {},
   "outputs": [
    {
     "name": "stdout",
     "output_type": "stream",
     "text": [
      "trained for SVM, C=0.01, poly, deg=2\n",
      "trained for SVM, C=0.01, linear\n",
      "trained for SVM, C=0.001, poly, deg=2\n",
      "trained for SVM, C=0.001, linear\n",
      "trained for SVM, C=0.0001, poly, deg=2\n",
      "trained for SVM, C=0.0001, linear\n",
      "trained for SVM, C=1, rbf\n",
      "trained for SVM, C=10, rbf\n",
      "Accuracy = 0.66\n",
      "    SVM, C=1, rbf: time = 0.0122139453888 seconds.\n",
      "    SVM, C=10, rbf: time = 0.0129868984222 seconds.\n",
      "Accuracy = 0.92\n",
      "    RandomForest, depth=1: time = 0.0239849090576 seconds.\n",
      "Accuracy = 0.94\n",
      "    SVM, C=0.001, linear: time = 0.00568222999573 seconds.\n",
      "Accuracy = 0.95\n",
      "    SVM, C=0.01, linear: time = 0.0323100090027 seconds.\n",
      "    RandomForest, depth=7: time = 0.0399169921875 seconds.\n",
      "    RandomForest, depth=13: time = 0.026535987854 seconds.\n",
      "Accuracy = 0.96\n",
      "    SVM, C=0.001, poly, deg=2: time = 4.93879008293 seconds.\n",
      "    SVM, C=0.0001, poly, deg=2: time = 1.07050204277 seconds.\n",
      "    SVM, C=0.0001, linear: time = 0.00377488136292 seconds.\n",
      "    RandomForest, depth=2: time = 0.0238909721375 seconds.\n",
      "    RandomForest, depth=3: time = 0.0250170230865 seconds.\n",
      "    RandomForest, depth=4: time = 0.0259220600128 seconds.\n",
      "    RandomForest, depth=8: time = 0.0274620056152 seconds.\n",
      "    RandomForest, depth=9: time = 0.0292778015137 seconds.\n",
      "    RandomForest, depth=12: time = 0.0265030860901 seconds.\n",
      "    RandomForest, depth=14: time = 0.0262930393219 seconds.\n",
      "Accuracy = 0.97\n",
      "    SVM, C=0.01, poly, deg=2: time = 23.4389989376 seconds.\n",
      "    RandomForest, depth=5: time = 0.02690076828 seconds.\n",
      "    RandomForest, depth=6: time = 0.0265560150146 seconds.\n",
      "    RandomForest, depth=10: time = 0.0311529636383 seconds.\n",
      "    RandomForest, depth=11: time = 0.0267372131348 seconds.\n"
     ]
    }
   ],
   "source": [
    "compare_SVM_RandomForest_time(\"../Datasets/cancer.csv\", 0)"
   ]
  },
  {
   "cell_type": "code",
   "execution_count": 11,
   "metadata": {},
   "outputs": [
    {
     "name": "stdout",
     "output_type": "stream",
     "text": [
      "trained for SVM, C=0.01, poly, deg=2\n",
      "trained for SVM, C=0.01, linear\n",
      "trained for SVM, C=0.001, poly, deg=2\n",
      "trained for SVM, C=0.001, linear\n",
      "trained for SVM, C=0.0001, poly, deg=2\n",
      "trained for SVM, C=0.0001, linear\n",
      "trained for SVM, C=1, rbf\n",
      "trained for SVM, C=10, rbf\n",
      "Accuracy = 0.76\n",
      "    SVM, C=0.0001, linear: time = 0.905840158463 seconds.\n",
      "Accuracy = 0.82\n",
      "    SVM, C=0.0001, poly, deg=2: time = 10.0332610607 seconds.\n",
      "    RandomForest, depth=1: time = 0.031347990036 seconds.\n",
      "Accuracy = 0.85\n",
      "    SVM, C=1, rbf: time = 0.849681854248 seconds.\n",
      "    RandomForest, depth=2: time = 0.0319418907166 seconds.\n",
      "Accuracy = 0.86\n",
      "    SVM, C=0.001, linear: time = 1.33355903625 seconds.\n",
      "Accuracy = 0.87\n",
      "    SVM, C=10, rbf: time = 1.12715005875 seconds.\n",
      "Accuracy = 0.88\n",
      "    SVM, C=0.001, poly, deg=2: time = 1483.44936299 seconds.\n",
      "Accuracy = 0.89\n",
      "    RandomForest, depth=3: time = 0.036957025528 seconds.\n",
      "Accuracy = 0.9\n",
      "    SVM, C=0.01, linear: time = 8.16068792343 seconds.\n",
      "    RandomForest, depth=4: time = 0.0392239093781 seconds.\n",
      "Accuracy = 0.91\n",
      "    SVM, C=0.01, poly, deg=2: time = 1430.9702251 seconds.\n",
      "Accuracy = 0.92\n",
      "    RandomForest, depth=5: time = 0.0426898002625 seconds.\n",
      "    RandomForest, depth=6: time = 0.0556380748749 seconds.\n",
      "    RandomForest, depth=7: time = 0.0499007701874 seconds.\n",
      "    RandomForest, depth=11: time = 0.0585060119629 seconds.\n",
      "Accuracy = 0.93\n",
      "    RandomForest, depth=8: time = 0.0512070655823 seconds.\n",
      "    RandomForest, depth=9: time = 0.0523538589478 seconds.\n",
      "    RandomForest, depth=10: time = 0.058856010437 seconds.\n",
      "    RandomForest, depth=13: time = 0.0590500831604 seconds.\n",
      "    RandomForest, depth=14: time = 0.0592589378357 seconds.\n",
      "Accuracy = 0.94\n",
      "    RandomForest, depth=12: time = 0.0596699714661 seconds.\n"
     ]
    }
   ],
   "source": [
    "compare_SVM_RandomForest_time(\"../Datasets/spam.csv\", 57)"
   ]
  },
  {
   "cell_type": "code",
   "execution_count": null,
   "metadata": {},
   "outputs": [],
   "source": []
  }
 ],
 "metadata": {
  "kernelspec": {
   "display_name": "Python 2",
   "language": "python",
   "name": "python2"
  },
  "language_info": {
   "codemirror_mode": {
    "name": "ipython",
    "version": 2
   },
   "file_extension": ".py",
   "mimetype": "text/x-python",
   "name": "python",
   "nbconvert_exporter": "python",
   "pygments_lexer": "ipython2",
   "version": "2.7.10"
  }
 },
 "nbformat": 4,
 "nbformat_minor": 1
}
