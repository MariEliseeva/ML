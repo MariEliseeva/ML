{
 "cells": [
  {
   "cell_type": "code",
   "execution_count": 1,
   "metadata": {
    "pycharm": {
     "is_executing": false
    }
   },
   "outputs": [],
   "source": [
    "import csv\n",
    "import matplotlib\n",
    "import matplotlib.pyplot as plt\n",
    "from tqdm import tqdm_notebook\n",
    "import random\n",
    "import numpy as np\n",
    "from sklearn.svm import SVC\n",
    "from sklearn.ensemble import RandomForestClassifier"
   ]
  },
  {
   "cell_type": "code",
   "execution_count": 2,
   "metadata": {
    "pycharm": {
     "is_executing": false
    }
   },
   "outputs": [],
   "source": [
    "def read_points(dataset_name, label_col_number):\n",
    "    points = []\n",
    "    labels = []\n",
    "    with open (dataset_name, 'r') as fin:\n",
    "        csvReader = csv.reader(fin, delimiter=',')\n",
    "        for row in csvReader:\n",
    "            if csvReader.line_num != 1:\n",
    "                float_row = []\n",
    "                for i in range(0, len(row)):\n",
    "                    if i != label_col_number:\n",
    "                        float_row.append(float(row[i]))\n",
    "                points.append(float_row)\n",
    "                labels.append(row[label_col_number])\n",
    "    return np.array(points), np.array(labels)"
   ]
  },
  {
   "cell_type": "code",
   "execution_count": 3,
   "metadata": {},
   "outputs": [],
   "source": [
    "def split(points, labels):\n",
    "    validate_indexes = random.sample(range(len(points)), len(points) // 5)\n",
    "    train_indexes = set([i for i in range(len(points))]) - set(validate_indexes)\n",
    "    return [points[i] for i in train_indexes], [labels[i] for i in train_indexes], [points[i] for i in validate_indexes], [labels[i] for i in validate_indexes]"
   ]
  },
  {
   "cell_type": "code",
   "execution_count": 4,
   "metadata": {},
   "outputs": [],
   "source": [
    "from time import time\n",
    "def chech_time(clf, train_points, train_labels, validate_points, validate_labels):\n",
    "    start = time()\n",
    "    clf.fit(train_points, train_labels)\n",
    "    end = time()\n",
    "    accuracy = round(clf.score(validate_points, validate_labels) * 100)\n",
    "    return accuracy, end - start"
   ]
  },
  {
   "cell_type": "code",
   "execution_count": 5,
   "metadata": {},
   "outputs": [],
   "source": [
    "def add_accuracy(accuracy, time, accuracy_times, text):\n",
    "    text += \": time = \" + str(time) + \" seconds.\"   \n",
    "    if accuracy in accuracy_times:\n",
    "        accuracy_times[accuracy].append(text)\n",
    "    else:\n",
    "        accuracy_times[accuracy]=[text]\n",
    "    return accuracy_times"
   ]
  },
  {
   "cell_type": "code",
   "execution_count": 6,
   "metadata": {},
   "outputs": [],
   "source": [
    "def compare_SVM_RandomForest_time(dataset_name, label_col_number):\n",
    "    points, labels = read_points(dataset_name, label_col_number)\n",
    "    train_points, train_labels, validate_points, validate_labels = split(points, labels)\n",
    "    accuracy_times = {}\n",
    "    \n",
    "    accuracy, time = chech_time(SVC(C=0.0001, kernel='poly', degree=2, gamma='auto'), train_points, train_labels, validate_points, validate_labels)\n",
    "    accuracy_times = add_accuracy(accuracy, time, accuracy_times, \"SVM, C=0.0001, poly, deg=2\")\n",
    "    print(\"trained for SVM, C=0.0001, poly, deg=2\")\n",
    "    \n",
    "    accuracy, time = chech_time(SVC(C=0.0001, kernel='linear', gamma='auto'), train_points, train_labels, validate_points, validate_labels)\n",
    "    accuracy_times = add_accuracy(accuracy, time, accuracy_times, \"SVM, C=0.0001, linear\")\n",
    "    print(\"trained for SVM, C=0.0001, linear\")\n",
    "    \n",
    "    accuracy, time = chech_time(SVC(C=0.00005, kernel='poly', degree=2, gamma='auto'), train_points, train_labels, validate_points, validate_labels)\n",
    "    accuracy_times = add_accuracy(accuracy, time, accuracy_times, \"SVM, C=0.00005, poly, deg=2\")\n",
    "    print(\"trained for SVM, C=0.00005, poly, deg=2\")\n",
    "    \n",
    "    accuracy, time = chech_time(SVC(C=0.00005, kernel='linear', gamma='auto'), train_points, train_labels, validate_points, validate_labels)\n",
    "    accuracy_times = add_accuracy(accuracy, time, accuracy_times, \"SVM, C=0.00005, linear\")\n",
    "    print(\"trained for SVM, C=0.00005, linear\")\n",
    "    \n",
    "    accuracy, time = chech_time(SVC(C=0.00001, kernel='poly', degree=2, gamma='auto'), train_points, train_labels, validate_points, validate_labels)\n",
    "    accuracy_times = add_accuracy(accuracy, time, accuracy_times, \"SVM, C=0.00001, poly, deg=2\")\n",
    "    print(\"trained for SVM, C=0.00001, poly, deg=2\")\n",
    "    \n",
    "    accuracy, time = chech_time(SVC(C=0.00001, kernel='linear', gamma='auto'), train_points, train_labels, validate_points, validate_labels)\n",
    "    accuracy_times = add_accuracy(accuracy, time, accuracy_times, \"SVM, C=0.00001, linear\")\n",
    "    print(\"trained for SVM, C=0.00001, linear\")\n",
    "    \n",
    "    accuracy, time = chech_time(SVC(C=1, kernel='rbf', gamma='auto'), train_points, train_labels, validate_points, validate_labels)\n",
    "    accuracy_times = add_accuracy(accuracy, time, accuracy_times, \"SVM, C=1, rbf\")\n",
    "    print(\"trained for SVM, C=1, rbf\")\n",
    "    \n",
    "    accuracy, time = chech_time(SVC(C=10, kernel='rbf', gamma='auto'), train_points, train_labels, validate_points, validate_labels)\n",
    "    accuracy_times = add_accuracy(accuracy, time, accuracy_times, \"SVM, C=10, rbf\")\n",
    "    print(\"trained for SVM, C=10, rbf\")\n",
    "    \n",
    "    for i in range(1, 15):\n",
    "        accuracy, time = chech_time(RandomForestClassifier(max_depth=i, n_estimators=10), train_points, train_labels, validate_points, validate_labels)\n",
    "        accuracy_times = add_accuracy(accuracy, time, accuracy_times, \"RandomForest, depth=\" + str(i))\n",
    "    \n",
    "    for key in sorted(accuracy_times.keys()):\n",
    "        print(\"Accuracy = \" + str(key * 1.0 / 100))\n",
    "        for elem in accuracy_times[key]:\n",
    "            print(\"    \" + elem)\n",
    "        "
   ]
  },
  {
   "cell_type": "code",
   "execution_count": 7,
   "metadata": {},
   "outputs": [
    {
     "name": "stdout",
     "output_type": "stream",
     "text": [
      "trained for SVM, C=0.0001, poly, deg=2\n",
      "trained for SVM, C=0.0001, linear\n",
      "trained for SVM, C=0.00005, poly, deg=2\n",
      "trained for SVM, C=0.00005, linear\n",
      "trained for SVM, C=0.00001, poly, deg=2\n",
      "trained for SVM, C=0.00001, linear\n",
      "trained for SVM, C=1, rbf\n",
      "trained for SVM, C=10, rbf\n",
      "Accuracy = 0.58\n",
      "    SVM, C=1, rbf: time = 0.0147621631622 seconds.\n",
      "    SVM, C=10, rbf: time = 0.0140430927277 seconds.\n",
      "Accuracy = 0.88\n",
      "    SVM, C=0.00001, linear: time = 0.00279712677002 seconds.\n",
      "Accuracy = 0.91\n",
      "    SVM, C=0.0001, linear: time = 0.00375819206238 seconds.\n",
      "    SVM, C=0.00005, linear: time = 0.00410294532776 seconds.\n",
      "    RandomForest, depth=1: time = 0.0267360210419 seconds.\n",
      "Accuracy = 0.94\n",
      "    RandomForest, depth=2: time = 0.025869846344 seconds.\n",
      "    RandomForest, depth=12: time = 0.0269920825958 seconds.\n",
      "Accuracy = 0.95\n",
      "    RandomForest, depth=5: time = 0.0295979976654 seconds.\n",
      "Accuracy = 0.96\n",
      "    SVM, C=0.00005, poly, deg=2: time = 0.224935054779 seconds.\n",
      "    SVM, C=0.00001, poly, deg=2: time = 0.0562770366669 seconds.\n",
      "    RandomForest, depth=8: time = 0.0272088050842 seconds.\n",
      "    RandomForest, depth=9: time = 0.0274529457092 seconds.\n",
      "    RandomForest, depth=10: time = 0.0275208950043 seconds.\n",
      "    RandomForest, depth=11: time = 0.0276889801025 seconds.\n",
      "Accuracy = 0.97\n",
      "    SVM, C=0.0001, poly, deg=2: time = 0.626047849655 seconds.\n",
      "    RandomForest, depth=3: time = 0.0255331993103 seconds.\n",
      "    RandomForest, depth=4: time = 0.0301940441132 seconds.\n",
      "    RandomForest, depth=7: time = 0.0270459651947 seconds.\n",
      "    RandomForest, depth=13: time = 0.0277659893036 seconds.\n",
      "    RandomForest, depth=14: time = 0.0279021263123 seconds.\n",
      "Accuracy = 0.98\n",
      "    RandomForest, depth=6: time = 0.0276789665222 seconds.\n"
     ]
    }
   ],
   "source": [
    "compare_SVM_RandomForest_time(\"../Datasets/cancer.csv\", 0)"
   ]
  },
  {
   "cell_type": "code",
   "execution_count": 8,
   "metadata": {},
   "outputs": [
    {
     "name": "stdout",
     "output_type": "stream",
     "text": [
      "trained for SVM, C=0.0001, poly, deg=2\n",
      "trained for SVM, C=0.0001, linear\n",
      "trained for SVM, C=0.00005, poly, deg=2\n",
      "trained for SVM, C=0.00005, linear\n",
      "trained for SVM, C=0.00001, poly, deg=2\n",
      "trained for SVM, C=0.00001, linear\n",
      "trained for SVM, C=1, rbf\n",
      "trained for SVM, C=10, rbf\n",
      "Accuracy = 0.73\n",
      "    SVM, C=0.00001, linear: time = 0.92790389061 seconds.\n",
      "Accuracy = 0.75\n",
      "    SVM, C=0.0001, linear: time = 0.967816114426 seconds.\n",
      "    SVM, C=0.00005, linear: time = 0.850450992584 seconds.\n",
      "Accuracy = 0.78\n",
      "    SVM, C=0.00001, poly, deg=2: time = 30.7133409977 seconds.\n",
      "Accuracy = 0.83\n",
      "    SVM, C=0.00005, poly, deg=2: time = 12.4004840851 seconds.\n",
      "    SVM, C=1, rbf: time = 0.872599124908 seconds.\n",
      "Accuracy = 0.84\n",
      "    SVM, C=0.0001, poly, deg=2: time = 14.7765800953 seconds.\n",
      "    SVM, C=10, rbf: time = 1.47242879868 seconds.\n",
      "Accuracy = 0.85\n",
      "    RandomForest, depth=1: time = 0.0362639427185 seconds.\n",
      "Accuracy = 0.88\n",
      "    RandomForest, depth=2: time = 0.0348241329193 seconds.\n",
      "Accuracy = 0.9\n",
      "    RandomForest, depth=3: time = 0.0391271114349 seconds.\n",
      "Accuracy = 0.92\n",
      "    RandomForest, depth=4: time = 0.0418701171875 seconds.\n",
      "    RandomForest, depth=5: time = 0.0491850376129 seconds.\n",
      "Accuracy = 0.93\n",
      "    RandomForest, depth=6: time = 0.0495939254761 seconds.\n",
      "    RandomForest, depth=7: time = 0.0513389110565 seconds.\n",
      "    RandomForest, depth=8: time = 0.0537838935852 seconds.\n",
      "Accuracy = 0.94\n",
      "    RandomForest, depth=9: time = 0.0569448471069 seconds.\n",
      "    RandomForest, depth=10: time = 0.0591459274292 seconds.\n",
      "    RandomForest, depth=11: time = 0.0601348876953 seconds.\n",
      "    RandomForest, depth=12: time = 0.0624489784241 seconds.\n",
      "    RandomForest, depth=13: time = 0.0681369304657 seconds.\n",
      "Accuracy = 0.95\n",
      "    RandomForest, depth=14: time = 0.0661909580231 seconds.\n"
     ]
    }
   ],
   "source": [
    "compare_SVM_RandomForest_time(\"../Datasets/spam.csv\", 57)"
   ]
  },
  {
   "cell_type": "code",
   "execution_count": null,
   "metadata": {},
   "outputs": [],
   "source": []
  }
 ],
 "metadata": {
  "kernelspec": {
   "display_name": "Python 2",
   "language": "python",
   "name": "python2"
  },
  "language_info": {
   "codemirror_mode": {
    "name": "ipython",
    "version": 2
   },
   "file_extension": ".py",
   "mimetype": "text/x-python",
   "name": "python",
   "nbconvert_exporter": "python",
   "pygments_lexer": "ipython2",
   "version": "2.7.10"
  }
 },
 "nbformat": 4,
 "nbformat_minor": 1
}
