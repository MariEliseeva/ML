{
 "cells": [
  {
   "cell_type": "code",
   "execution_count": 2,
   "metadata": {
    "pycharm": {
     "is_executing": false
    }
   },
   "outputs": [],
   "source": [
    "import csv\n",
    "import matplotlib\n",
    "import matplotlib.pyplot as plt\n",
    "matplotlib.rcParams['figure.figsize'] = [15, 15]\n",
    "from tqdm import tqdm_notebook\n",
    "import random\n",
    "import numpy as np"
   ]
  },
  {
   "cell_type": "code",
   "execution_count": 3,
   "metadata": {},
   "outputs": [
    {
     "name": "stdout",
     "output_type": "stream",
     "text": [
      "showing info https://raw.githubusercontent.com/nltk/nltk_data/gh-pages/index.xml\n"
     ]
    },
    {
     "data": {
      "text/plain": [
       "True"
      ]
     },
     "execution_count": 3,
     "metadata": {},
     "output_type": "execute_result"
    }
   ],
   "source": [
    "import nltk\n",
    "nltk.download()"
   ]
  },
  {
   "cell_type": "code",
   "execution_count": 4,
   "metadata": {},
   "outputs": [],
   "source": [
    "from nltk.tokenize import sent_tokenize, word_tokenize\n",
    "def stem(points, stemmer):\n",
    "    print(\"Stemming words\")\n",
    "    for i in tqdm_notebook(range(len(points))):\n",
    "        sentence = points[i].decode(\"utf8\")\n",
    "        words = word_tokenize(sentence)\n",
    "        new_point = \"\"\n",
    "        for word in words:\n",
    "            new_point += stemmer.stem(word) + \" \"\n",
    "        points[i] = new_point\n",
    "    return points"
   ]
  },
  {
   "cell_type": "code",
   "execution_count": 5,
   "metadata": {},
   "outputs": [],
   "source": [
    "from sklearn.feature_extraction.text import CountVectorizer\n",
    "def to_bag_of_words(points, stemmer):\n",
    "    if stemmer:\n",
    "        points = stem(points, stemmer)\n",
    "    vectorizer = CountVectorizer(token_pattern = r\"(?u)\\b\\w+\\b\")\n",
    "    vectors = vectorizer.fit_transform(points).toarray()\n",
    "    N = len(vectorizer.vocabulary_)\n",
    "    return vectors, N"
   ]
  },
  {
   "cell_type": "code",
   "execution_count": 6,
   "metadata": {
    "pycharm": {
     "is_executing": false
    }
   },
   "outputs": [],
   "source": [
    "def read_points(stemmer):\n",
    "    points = []\n",
    "    labels = []\n",
    "    with open ('../Datasets/smsspam.csv', 'r') as fin:\n",
    "        csvReader = csv.reader(fin, delimiter=',')\n",
    "        for row in csvReader:\n",
    "            if csvReader.line_num != 1:\n",
    "                points.append((row[1]))\n",
    "                labels.append(row[0])\n",
    "    points, N = to_bag_of_words(points, stemmer)\n",
    "    return points, labels, N"
   ]
  },
  {
   "cell_type": "code",
   "execution_count": 7,
   "metadata": {},
   "outputs": [],
   "source": [
    "def split(points, labels):\n",
    "    test_indexes = random.sample(range(len(points)), len(points) // 5)\n",
    "    train_indexes = set([i for i in range(len(points))]) - set(test_indexes)\n",
    "    return [points[i] for i in train_indexes], [labels[i] for i in train_indexes], [points[i] for i in test_indexes], [labels[i] for i in test_indexes]"
   ]
  },
  {
   "cell_type": "code",
   "execution_count": 8,
   "metadata": {},
   "outputs": [],
   "source": [
    "def bayesian_classifier(train_points, train_labels, unique_labels):\n",
    "    def count(i, point, points):\n",
    "        cnt = 0\n",
    "        for p in points:\n",
    "            if p[i] == point[i]:\n",
    "                cnt += 1\n",
    "        return cnt\n",
    "    \n",
    "    label_point_prob = []\n",
    "    label_prob = []\n",
    "    \n",
    "    for i in range(len(unique_labels)):\n",
    "        label = unique_labels[i]\n",
    "        label_points = []\n",
    "        for j in range(len(train_points)):\n",
    "            if train_labels[j] == label:\n",
    "                label_points.append(train_points[j])\n",
    "        label_prob.append(len(label_points) * 1.0 / len(train_points))\n",
    "        label_point_prob.append([])\n",
    "        label_points = np.array(label_points)\n",
    "        print(\"Calculating probabilities for label \" + unique_labels[i])\n",
    "        for j in tqdm_notebook(range(len(train_points[0]))):\n",
    "            label_point_prob[i].append([])\n",
    "            label_point_prob[i][j] = {}\n",
    "            minn = label_points[:,j].min()\n",
    "            maxx = label_points[:,j].max()\n",
    "            for k in range(minn, maxx + 1):\n",
    "                label_point_prob[i][j][k] = 0\n",
    "            for point in label_points:\n",
    "                label_point_prob[i][j][point[j]] += 1\n",
    "            for k in range(minn, maxx + 1):\n",
    "                label_point_prob[i][j][k] =  label_point_prob[i][j][k] * 1.0 / len(label_points)\n",
    "    return label_prob, label_point_prob\n",
    "    "
   ]
  },
  {
   "cell_type": "code",
   "execution_count": 9,
   "metadata": {},
   "outputs": [],
   "source": [
    "def roc(points, labels, true_label, scores, true_label_scores):\n",
    "    x = [0]\n",
    "    y = [0]\n",
    "    for j in range(len(true_label_scores)):\n",
    "        true_score = true_label_scores[j]\n",
    "        tp = 0\n",
    "        fp = 0\n",
    "        tn = 0\n",
    "        fn = 0\n",
    "        for i in range(len(scores)):\n",
    "            if scores[i] >= true_score:\n",
    "                if labels[i] == true_label:\n",
    "                    tp += 1\n",
    "                else:\n",
    "                    fp += 1\n",
    "            else:\n",
    "                if labels[i] == true_label:\n",
    "                    fn += 1\n",
    "                else:\n",
    "                    tn += 1\n",
    "        if tp + fn != 0:\n",
    "            y.append(tp * 1.0 / (tp + fn))\n",
    "        else:\n",
    "            y.append(0)\n",
    "        if fp + tn != 0:\n",
    "            x.append(fp * 1.0 / (fp + tn))\n",
    "        else:\n",
    "            x.append(0)\n",
    "    return x, y"
   ]
  },
  {
   "cell_type": "code",
   "execution_count": 10,
   "metadata": {},
   "outputs": [],
   "source": [
    "import math\n",
    "def bayess_predict(label_prob, label_point_prob, point, unique_labels, alpha, N):\n",
    "    max_score = None\n",
    "    max_label = None\n",
    "    scores = []\n",
    "    for i in range(len(unique_labels)):\n",
    "        score = np.log(label_prob[i] + alpha * N)\n",
    "        for j in range(len(point)):\n",
    "            score += np.log(label_point_prob[i][j].get(point[j], 0) + alpha)\n",
    "        scores.append(score)\n",
    "        if not max_score or score > max_score:\n",
    "            max_score = score\n",
    "            max_label = unique_labels[i]\n",
    "    other_score = 0\n",
    "    if max_score == scores[0]:\n",
    "        other_score = scores[1]\n",
    "    else:\n",
    "        other_score = scores[0]\n",
    "    result = 1.0 / (np.exp(other_score - max_score))\n",
    "    if not math.isnan(result):\n",
    "        return result, max_label\n",
    "    return 0.5, max_label    "
   ]
  },
  {
   "cell_type": "code",
   "execution_count": 11,
   "metadata": {},
   "outputs": [],
   "source": [
    "def test_bayesian_classifier(alpha, stemmer=None):\n",
    "    true_label = 'spam'\n",
    "    points, labels, N = read_points(stemmer)\n",
    "    unique_labels = np.unique(np.array(labels)).tolist()\n",
    "    train_points, train_labels, test_points, test_labels = split(points, labels)\n",
    "    label_prob, label_point_prob = bayesian_classifier(train_points, train_labels, unique_labels)\n",
    "    scores = []\n",
    "    is_true = []\n",
    "    accuracy = 0\n",
    "    print(\"Testing\")\n",
    "    for i in tqdm_notebook(range(len(test_points))):\n",
    "        point = test_points[i]\n",
    "        score, label = bayess_predict(label_prob, label_point_prob, point, unique_labels, alpha, N)\n",
    "        is_true.append(label == true_label)\n",
    "        scores.append(score)\n",
    "        if (test_labels[i] == label):\n",
    "            accuracy += 1\n",
    "    print(\"Accuracy = \" + str(accuracy * 1.0 / len(test_points)))\n",
    "        \n",
    "    for i in range(len(test_points)):\n",
    "        if not is_true[i]:\n",
    "            scores[i] = 1 - scores[i]\n",
    "    true_label_scores = list(scores)\n",
    "    true_label_scores = sorted(set(true_label_scores), reverse=True)\n",
    "    x, y = roc(test_points, test_labels, true_label, scores, true_label_scores)\n",
    "    plt.plot(x, y)\n",
    "    plt.show()"
   ]
  },
  {
   "cell_type": "code",
   "execution_count": 12,
   "metadata": {},
   "outputs": [
    {
     "name": "stdout",
     "output_type": "stream",
     "text": [
      "Stemming words\n"
     ]
    },
    {
     "data": {
      "application/vnd.jupyter.widget-view+json": {
       "model_id": "c59cb88db0574f07bd0ef4acbccc2307",
       "version_major": 2,
       "version_minor": 0
      },
      "text/plain": [
       "HBox(children=(IntProgress(value=0, max=5572), HTML(value=u'')))"
      ]
     },
     "metadata": {},
     "output_type": "display_data"
    },
    {
     "name": "stdout",
     "output_type": "stream",
     "text": [
      "\n",
      "Calculating probabilities for label ham\n"
     ]
    },
    {
     "data": {
      "application/vnd.jupyter.widget-view+json": {
       "model_id": "f366cc8c2eb746fc82e2c58fb0307de5",
       "version_major": 2,
       "version_minor": 0
      },
      "text/plain": [
       "HBox(children=(IntProgress(value=0, max=7577), HTML(value=u'')))"
      ]
     },
     "metadata": {},
     "output_type": "display_data"
    },
    {
     "name": "stdout",
     "output_type": "stream",
     "text": [
      "\n",
      "Calculating probabilities for label spam\n"
     ]
    },
    {
     "data": {
      "application/vnd.jupyter.widget-view+json": {
       "model_id": "6852c12c61024780869aff2afa0b0a70",
       "version_major": 2,
       "version_minor": 0
      },
      "text/plain": [
       "HBox(children=(IntProgress(value=0, max=7577), HTML(value=u'')))"
      ]
     },
     "metadata": {},
     "output_type": "display_data"
    },
    {
     "name": "stdout",
     "output_type": "stream",
     "text": [
      "\n",
      "Testing\n"
     ]
    },
    {
     "data": {
      "application/vnd.jupyter.widget-view+json": {
       "model_id": "708efa3c72784b40a6bce793cef2b8e9",
       "version_major": 2,
       "version_minor": 0
      },
      "text/plain": [
       "HBox(children=(IntProgress(value=0, max=1114), HTML(value=u'')))"
      ]
     },
     "metadata": {},
     "output_type": "display_data"
    },
    {
     "name": "stdout",
     "output_type": "stream",
     "text": [
      "\n",
      "Accuracy = 0.868940754039\n"
     ]
    },
    {
     "data": {
      "image/png": "[encoded data removed]",
      "text/plain": [
       "<Figure size 1080x1080 with 1 Axes>"
      ]
     },
     "metadata": {
      "needs_background": "light"
     },
     "output_type": "display_data"
    }
   ],
   "source": [
    "from nltk.stem import PorterStemmer\n",
    "test_bayesian_classifier(1, PorterStemmer())"
   ]
  },
  {
   "cell_type": "code",
   "execution_count": 13,
   "metadata": {},
   "outputs": [
    {
     "name": "stdout",
     "output_type": "stream",
     "text": [
      "Stemming words\n"
     ]
    },
    {
     "data": {
      "application/vnd.jupyter.widget-view+json": {
       "model_id": "f1ee0cff61a84403873eea0b586a7603",
       "version_major": 2,
       "version_minor": 0
      },
      "text/plain": [
       "HBox(children=(IntProgress(value=0, max=5572), HTML(value=u'')))"
      ]
     },
     "metadata": {},
     "output_type": "display_data"
    },
    {
     "name": "stdout",
     "output_type": "stream",
     "text": [
      "\n",
      "Calculating probabilities for label ham\n"
     ]
    },
    {
     "data": {
      "application/vnd.jupyter.widget-view+json": {
       "model_id": "e60175c2c00c41deb6e9003ffe471b9a",
       "version_major": 2,
       "version_minor": 0
      },
      "text/plain": [
       "HBox(children=(IntProgress(value=0, max=7076), HTML(value=u'')))"
      ]
     },
     "metadata": {},
     "output_type": "display_data"
    },
    {
     "name": "stdout",
     "output_type": "stream",
     "text": [
      "\n",
      "Calculating probabilities for label spam\n"
     ]
    },
    {
     "data": {
      "application/vnd.jupyter.widget-view+json": {
       "model_id": "45f6dc7a09c14d9199f6bb6d73b9b76d",
       "version_major": 2,
       "version_minor": 0
      },
      "text/plain": [
       "HBox(children=(IntProgress(value=0, max=7076), HTML(value=u'')))"
      ]
     },
     "metadata": {},
     "output_type": "display_data"
    },
    {
     "name": "stdout",
     "output_type": "stream",
     "text": [
      "\n",
      "Testing\n"
     ]
    },
    {
     "data": {
      "application/vnd.jupyter.widget-view+json": {
       "model_id": "2cf85c40180349d899df01777e344d04",
       "version_major": 2,
       "version_minor": 0
      },
      "text/plain": [
       "HBox(children=(IntProgress(value=0, max=1114), HTML(value=u'')))"
      ]
     },
     "metadata": {},
     "output_type": "display_data"
    },
    {
     "name": "stdout",
     "output_type": "stream",
     "text": [
      "\n",
      "Accuracy = 0.865350089767\n"
     ]
    },
    {
     "data": {
      "image/png": "[encoded data removed]",
      "text/plain": [
       "<Figure size 1080x1080 with 1 Axes>"
      ]
     },
     "metadata": {
      "needs_background": "light"
     },
     "output_type": "display_data"
    }
   ],
   "source": [
    "from nltk.stem import LancasterStemmer\n",
    "test_bayesian_classifier(1, LancasterStemmer())"
   ]
  },
  {
   "cell_type": "code",
   "execution_count": 14,
   "metadata": {},
   "outputs": [
    {
     "name": "stdout",
     "output_type": "stream",
     "text": [
      "Stemming words\n"
     ]
    },
    {
     "data": {
      "application/vnd.jupyter.widget-view+json": {
       "model_id": "7687e9ffbdcd485fb0aa9c80d2bdab5a",
       "version_major": 2,
       "version_minor": 0
      },
      "text/plain": [
       "HBox(children=(IntProgress(value=0, max=5572), HTML(value=u'')))"
      ]
     },
     "metadata": {},
     "output_type": "display_data"
    },
    {
     "name": "stdout",
     "output_type": "stream",
     "text": [
      "\n",
      "Calculating probabilities for label ham\n"
     ]
    },
    {
     "data": {
      "application/vnd.jupyter.widget-view+json": {
       "model_id": "17cceab4151a475ab1cc3f06d5e3bc3b",
       "version_major": 2,
       "version_minor": 0
      },
      "text/plain": [
       "HBox(children=(IntProgress(value=0, max=7581), HTML(value=u'')))"
      ]
     },
     "metadata": {},
     "output_type": "display_data"
    },
    {
     "name": "stdout",
     "output_type": "stream",
     "text": [
      "\n",
      "Calculating probabilities for label spam\n"
     ]
    },
    {
     "data": {
      "application/vnd.jupyter.widget-view+json": {
       "model_id": "4b911bde53474f4f9ac1b440f673eb3c",
       "version_major": 2,
       "version_minor": 0
      },
      "text/plain": [
       "HBox(children=(IntProgress(value=0, max=7581), HTML(value=u'')))"
      ]
     },
     "metadata": {},
     "output_type": "display_data"
    },
    {
     "name": "stdout",
     "output_type": "stream",
     "text": [
      "\n",
      "Testing\n"
     ]
    },
    {
     "data": {
      "application/vnd.jupyter.widget-view+json": {
       "model_id": "279c180a9e9e4d4984eabacda33a93ff",
       "version_major": 2,
       "version_minor": 0
      },
      "text/plain": [
       "HBox(children=(IntProgress(value=0, max=1114), HTML(value=u'')))"
      ]
     },
     "metadata": {},
     "output_type": "display_data"
    },
    {
     "name": "stdout",
     "output_type": "stream",
     "text": [
      "\n",
      "Accuracy = 0.868043087971\n"
     ]
    },
    {
     "data": {
      "image/png": "[encoded data removed]",
      "text/plain": [
       "<Figure size 1080x1080 with 1 Axes>"
      ]
     },
     "metadata": {
      "needs_background": "light"
     },
     "output_type": "display_data"
    }
   ],
   "source": [
    "from nltk.stem import SnowballStemmer\n",
    "test_bayesian_classifier(1, SnowballStemmer('english', ignore_stopwords=True))"
   ]
  },
  {
   "cell_type": "code",
   "execution_count": 15,
   "metadata": {},
   "outputs": [
    {
     "name": "stdout",
     "output_type": "stream",
     "text": [
      "Calculating probabilities for label ham\n"
     ]
    },
    {
     "data": {
      "application/vnd.jupyter.widget-view+json": {
       "model_id": "620b5444b5a349958d2a5ea14a1e6d31",
       "version_major": 2,
       "version_minor": 0
      },
      "text/plain": [
       "HBox(children=(IntProgress(value=0, max=8753), HTML(value=u'')))"
      ]
     },
     "metadata": {},
     "output_type": "display_data"
    },
    {
     "name": "stdout",
     "output_type": "stream",
     "text": [
      "\n",
      "Calculating probabilities for label spam\n"
     ]
    },
    {
     "data": {
      "application/vnd.jupyter.widget-view+json": {
       "model_id": "68f282d732ed41d0af32f1de9aec63fd",
       "version_major": 2,
       "version_minor": 0
      },
      "text/plain": [
       "HBox(children=(IntProgress(value=0, max=8753), HTML(value=u'')))"
      ]
     },
     "metadata": {},
     "output_type": "display_data"
    },
    {
     "name": "stdout",
     "output_type": "stream",
     "text": [
      "\n",
      "Testing\n"
     ]
    },
    {
     "data": {
      "application/vnd.jupyter.widget-view+json": {
       "model_id": "fc402b93dfac434aa153f0022137aa2e",
       "version_major": 2,
       "version_minor": 0
      },
      "text/plain": [
       "HBox(children=(IntProgress(value=0, max=1114), HTML(value=u'')))"
      ]
     },
     "metadata": {},
     "output_type": "display_data"
    },
    {
     "name": "stdout",
     "output_type": "stream",
     "text": [
      "\n",
      "Accuracy = 0.868940754039\n"
     ]
    },
    {
     "data": {
      "image/png": "[encoded data removed]",
      "text/plain": [
       "<Figure size 1080x1080 with 1 Axes>"
      ]
     },
     "metadata": {
      "needs_background": "light"
     },
     "output_type": "display_data"
    }
   ],
   "source": [
    "test_bayesian_classifier(1)"
   ]
  },
  {
   "cell_type": "code",
   "execution_count": null,
   "metadata": {},
   "outputs": [],
   "source": []
  }
 ],
 "metadata": {
  "kernelspec": {
   "display_name": "Python 2",
   "language": "python",
   "name": "python2"
  },
  "language_info": {
   "codemirror_mode": {
    "name": "ipython",
    "version": 2
   },
   "file_extension": ".py",
   "mimetype": "text/x-python",
   "name": "python",
   "nbconvert_exporter": "python",
   "pygments_lexer": "ipython2",
   "version": "2.7.10"
  }
 },
 "nbformat": 4,
 "nbformat_minor": 1
}
