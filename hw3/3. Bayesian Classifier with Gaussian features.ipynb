{
 "cells": [
  {
   "cell_type": "code",
   "execution_count": 2,
   "metadata": {
    "pycharm": {
     "is_executing": false
    }
   },
   "outputs": [],
   "source": [
    "import csv\n",
    "import matplotlib\n",
    "import matplotlib.pyplot as plt\n",
    "matplotlib.rcParams['figure.figsize'] = [15, 15]\n",
    "from tqdm import tqdm_notebook\n",
    "import random\n",
    "import numpy as np"
   ]
  },
  {
   "cell_type": "code",
   "execution_count": 3,
   "metadata": {
    "pycharm": {
     "is_executing": false
    }
   },
   "outputs": [],
   "source": [
    "def read_points(dataset_name, label_col_number):\n",
    "    points = []\n",
    "    labels = []\n",
    "    with open (dataset_name, 'r') as fin:\n",
    "        csvReader = csv.reader(fin, delimiter=',')\n",
    "        for row in csvReader:\n",
    "            if csvReader.line_num != 1:\n",
    "                float_row = []\n",
    "                for i in range(0, len(row)):\n",
    "                    if i != label_col_number:\n",
    "                        float_row.append(float(row[i]))\n",
    "                points.append(float_row)\n",
    "                labels.append(row[label_col_number])\n",
    "    return points, labels"
   ]
  },
  {
   "cell_type": "code",
   "execution_count": 4,
   "metadata": {},
   "outputs": [],
   "source": [
    "def split(points, labels):\n",
    "    test_indexes = random.sample(range(len(points)), len(points) // 5)\n",
    "    train_indexes = set([i for i in range(len(points))]) - set(test_indexes)\n",
    "    return [points[i] for i in train_indexes], [labels[i] for i in train_indexes], [points[i] for i in test_indexes], [labels[i] for i in test_indexes]"
   ]
  },
  {
   "cell_type": "code",
   "execution_count": 5,
   "metadata": {},
   "outputs": [],
   "source": [
    "def bayesian_classifier(train_points, train_labels, unique_labels):\n",
    "    label_mu = []\n",
    "    label_sigma = []\n",
    "    label_prob = []\n",
    "    for i in range(len(unique_labels)):\n",
    "        label = unique_labels[i]\n",
    "        label_points = []\n",
    "        for j in range(len(train_points)):\n",
    "            if train_labels[j] == label:\n",
    "                label_points.append(train_points[j])\n",
    "        label_prob.append(len(label_points) * 1.0 / len(train_points))\n",
    "        label_mu.append([])\n",
    "        label_sigma.append([])\n",
    "        label_points = np.array(label_points)\n",
    "        for j in range(len(train_points[0])):\n",
    "            label_mu[i].append(np.average(label_points[:,j]))\n",
    "            label_sigma[i].append(np.var(label_points[:,j]))\n",
    "    return label_prob, label_mu, label_sigma\n",
    "    "
   ]
  },
  {
   "cell_type": "code",
   "execution_count": 6,
   "metadata": {},
   "outputs": [],
   "source": [
    "def roc(points, labels, true_label, scores, true_label_scores):\n",
    "    x = [0]\n",
    "    y = [0]\n",
    "    for j in range(len(true_label_scores)):\n",
    "        true_score = true_label_scores[j]\n",
    "        tp = 0\n",
    "        fp = 0\n",
    "        tn = 0\n",
    "        fn = 0\n",
    "        for i in range(len(scores)):\n",
    "            if scores[i] >= true_score:\n",
    "                if labels[i] == true_label:\n",
    "                    tp += 1\n",
    "                else:\n",
    "                    fp += 1\n",
    "            else:\n",
    "                if labels[i] == true_label:\n",
    "                    fn += 1\n",
    "                else:\n",
    "                    tn += 1\n",
    "        if tp + fn != 0:\n",
    "            y.append(tp * 1.0 / (tp + fn))\n",
    "        else:\n",
    "            y.append(0)\n",
    "        if fp + tn != 0:\n",
    "            x.append(fp * 1.0 / (fp + tn))\n",
    "        else:\n",
    "            x.append(0)\n",
    "    return x, y"
   ]
  },
  {
   "cell_type": "code",
   "execution_count": 7,
   "metadata": {},
   "outputs": [],
   "source": [
    "import math\n",
    "def bayess_predict(label_prob, label_mu, label_sigma, point, unique_labels):\n",
    "    max_score = None\n",
    "    max_label = None\n",
    "    scores = []\n",
    "    for i in range(len(unique_labels)):\n",
    "        score = np.log(label_prob[i])\n",
    "        for j in range(len(point)):\n",
    "            mu = label_mu[i][j]\n",
    "            sigma = label_sigma[i][j]\n",
    "            score += -1.0 / 2 * np.log(2 * np.pi * sigma) - (point[j] - mu) ** 2 / (2 * sigma)\n",
    "        scores.append(score)\n",
    "        if not max_score or score > max_score:\n",
    "            max_score = score\n",
    "            max_label = unique_labels[i]\n",
    "    other_score = 0\n",
    "    if max_score == scores[0]:\n",
    "        other_score = scores[1]\n",
    "    else:\n",
    "        other_score = scores[0]\n",
    "    result = 1.0 / (np.exp(other_score - max_score))\n",
    "    if not math.isnan(result):\n",
    "        return result, max_label\n",
    "    return 0.5, max_label    \n",
    "    "
   ]
  },
  {
   "cell_type": "code",
   "execution_count": 8,
   "metadata": {},
   "outputs": [],
   "source": [
    "def test_bayesian_classifier(dataset_name, label_col_number, true_label):\n",
    "    points, labels = read_points(dataset_name, label_col_number)\n",
    "    unique_labels = np.unique(np.array(labels)).tolist()\n",
    "    train_points, train_labels, test_points, test_labels = [], [], [], []\n",
    "    while(True):\n",
    "        train_points, train_labels, test_points, test_labels = split(points, labels)\n",
    "        label_prob, label_mu, label_sigma = bayesian_classifier(train_points, train_labels, unique_labels)\n",
    "        scores = []\n",
    "        is_true = []\n",
    "        accuracy = 0\n",
    "        for i in range(len(test_points)):\n",
    "            point = test_points[i]\n",
    "            score, label = bayess_predict(label_prob, label_mu, label_sigma, point, unique_labels)\n",
    "            is_true.append(label == true_label)\n",
    "            scores.append(score)\n",
    "            if (test_labels[i] == label):\n",
    "                accuracy += 1\n",
    "        for i in range(len(test_points)):\n",
    "            if not is_true[i]:\n",
    "                scores[i] = 1 - scores[i]\n",
    "        true_label_scores = list(scores)\n",
    "        true_label_scores = sorted(set(true_label_scores), reverse=True)\n",
    "        if (len(true_label_scores) > 2):\n",
    "            #Too small scores\n",
    "            break\n",
    "    print(\"Accuracy = \" + str(accuracy * 1.0 / len(test_points)))\n",
    "    x, y = roc(test_points, test_labels, true_label, scores, true_label_scores)\n",
    "    plt.plot(x, y)\n",
    "    plt.show()"
   ]
  },
  {
   "cell_type": "code",
   "execution_count": 9,
   "metadata": {},
   "outputs": [
    {
     "name": "stderr",
     "output_type": "stream",
     "text": [
      "/Users/mari/Documents/ML/hw3/venv/lib/python2.7/site-packages/ipykernel_launcher.py:21: RuntimeWarning: divide by zero encountered in double_scalars\n"
     ]
    },
    {
     "name": "stdout",
     "output_type": "stream",
     "text": [
      "Accuracy = 0.938053097345\n"
     ]
    },
    {
     "data": {
      "image/png": "[encoded data removed]",
      "text/plain": [
       "<Figure size 1080x1080 with 1 Axes>"
      ]
     },
     "metadata": {
      "needs_background": "light"
     },
     "output_type": "display_data"
    }
   ],
   "source": [
    "test_bayesian_classifier('../Datasets/cancer.csv', 0, 'M')"
   ]
  },
  {
   "cell_type": "code",
   "execution_count": 10,
   "metadata": {},
   "outputs": [
    {
     "name": "stderr",
     "output_type": "stream",
     "text": [
      "/Users/mari/Documents/ML/hw3/venv/lib/python2.7/site-packages/ipykernel_launcher.py:21: RuntimeWarning: divide by zero encountered in double_scalars\n",
      "/Users/mari/Documents/ML/hw3/venv/lib/python2.7/site-packages/ipykernel_launcher.py:21: RuntimeWarning: overflow encountered in double_scalars\n"
     ]
    },
    {
     "name": "stdout",
     "output_type": "stream",
     "text": [
      "Accuracy = 0.826086956522\n"
     ]
    },
    {
     "data": {
      "image/png": "[encoded data removed]",
      "text/plain": [
       "<Figure size 1080x1080 with 1 Axes>"
      ]
     },
     "metadata": {
      "needs_background": "light"
     },
     "output_type": "display_data"
    }
   ],
   "source": [
    "test_bayesian_classifier('../Datasets/spam.csv', 57, '1')"
   ]
  }
 ],
 "metadata": {
  "kernelspec": {
   "display_name": "Python 2",
   "language": "python",
   "name": "python2"
  },
  "language_info": {
   "codemirror_mode": {
    "name": "ipython",
    "version": 2
   },
   "file_extension": ".py",
   "mimetype": "text/x-python",
   "name": "python",
   "nbconvert_exporter": "python",
   "pygments_lexer": "ipython2",
   "version": "2.7.10"
  }
 },
 "nbformat": 4,
 "nbformat_minor": 1
}
